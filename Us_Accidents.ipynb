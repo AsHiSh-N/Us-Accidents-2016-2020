{
  "cells": [
    {
      "cell_type": "markdown",
      "source": [
        "## Setting up the Project by downloading the required libraries and datasets"
      ],
      "metadata": {
        "id": "Y396oILQvJLl"
      }
    },
    {
      "cell_type": "code",
      "execution_count": 27,
      "metadata": {
        "id": "BoLSJsyioHAx"
      },
      "outputs": [],
      "source": [
        "!pip install opendatasets --upgrade --quiet"
      ]
    },
    {
      "cell_type": "code",
      "execution_count": 28,
      "metadata": {
        "id": "-Jp13HnLotWd"
      },
      "outputs": [],
      "source": [
        "import opendatasets as od"
      ]
    },
    {
      "cell_type": "code",
      "source": [
        "download_url = 'https://www.kaggle.com/datasets/sobhanmoosavi/us-accidents'\n",
        "od.download(download_url)"
      ],
      "metadata": {
        "colab": {
          "base_uri": "https://localhost:8080/"
        },
        "id": "gvHWgxteuKWX",
        "outputId": "957015b0-eca5-45a5-9571-69f074a3799c"
      },
      "execution_count": 29,
      "outputs": [
        {
          "output_type": "stream",
          "name": "stdout",
          "text": [
            "Skipping, found downloaded files in \"./us-accidents\" (use force=True to force download)\n"
          ]
        }
      ]
    },
    {
      "cell_type": "code",
      "source": [
        "data_file = '/content/us-accidents/US_Accidents_Dec21_updated.csv'"
      ],
      "metadata": {
        "id": "w8xsqHHNuWKP"
      },
      "execution_count": 30,
      "outputs": []
    },
    {
      "cell_type": "markdown",
      "source": [
        "# Data Preparation and Cleaning\n",
        "1. Loading the data using Pandas\n",
        "2. Getting an overview of data and columns\n",
        "3. Finding out any missing value or error and fixing them(Cleaning)"
      ],
      "metadata": {
        "id": "FvK8EzqDvbnp"
      }
    },
    {
      "cell_type": "code",
      "source": [
        "import pandas as pd\n",
        "import seaborn as sns\n",
        "import folium\n",
        "from folium import plugins\n",
        "from folium.plugins import HeatMap"
      ],
      "metadata": {
        "id": "4O-CZLWkv5fv"
      },
      "execution_count": 129,
      "outputs": []
    },
    {
      "cell_type": "code",
      "source": [
        "data = pd.read_csv(data_file)"
      ],
      "metadata": {
        "id": "yip8_La7v7r1"
      },
      "execution_count": 32,
      "outputs": []
    },
    {
      "cell_type": "code",
      "source": [
        "data.tail(5)"
      ],
      "metadata": {
        "colab": {
          "base_uri": "https://localhost:8080/",
          "height": 577
        },
        "id": "sX32lStH0dFs",
        "outputId": "746202bd-1c73-4788-c7d5-92b237f2c1a0"
      },
      "execution_count": 205,
      "outputs": [
        {
          "output_type": "execute_result",
          "data": {
            "text/plain": [
              "                ID  Severity          Start_Time             End_Time  \\\n",
              "2845337  A-2845338         2 2019-08-23 18:03:25  2019-08-23 18:32:01   \n",
              "2845338  A-2845339         2 2019-08-23 19:11:30  2019-08-23 19:38:23   \n",
              "2845339  A-2845340         2 2019-08-23 19:00:21  2019-08-23 19:28:49   \n",
              "2845340  A-2845341         2 2019-08-23 19:00:21  2019-08-23 19:29:42   \n",
              "2845341  A-2845342         2 2019-08-23 18:52:06  2019-08-23 19:21:31   \n",
              "\n",
              "         Start_Lat  Start_Lng   End_Lat    End_Lng  Distance(mi)  \\\n",
              "2845337   34.00248 -117.37936  33.99888 -117.37094         0.543   \n",
              "2845338   32.76696 -117.14806  32.76555 -117.15363         0.338   \n",
              "2845339   33.77545 -117.84779  33.77740 -117.85727         0.561   \n",
              "2845340   33.99246 -118.40302  33.98311 -118.39565         0.772   \n",
              "2845341   34.13393 -117.23092  34.13736 -117.23934         0.537   \n",
              "\n",
              "                                               Description  ...  Roundabout  \\\n",
              "2845337                           At Market St - Accident.  ...       False   \n",
              "2845338    At Camino Del Rio/Mission Center Rd - Accident.  ...       False   \n",
              "2845339  At Glassell St/Grand Ave - Accident. in the ri...  ...       False   \n",
              "2845340     At CA-90/Marina Fwy/Jefferson Blvd - Accident.  ...       False   \n",
              "2845341              At Highland Ave/Arden Ave - Accident.  ...       False   \n",
              "\n",
              "        Station   Stop Traffic_Calming Traffic_Signal Turning_Loop  \\\n",
              "2845337   False  False           False          False        False   \n",
              "2845338   False  False           False          False        False   \n",
              "2845339   False  False           False          False        False   \n",
              "2845340   False  False           False          False        False   \n",
              "2845341   False  False           False          False        False   \n",
              "\n",
              "        Sunrise_Sunset Civil_Twilight Nautical_Twilight Astronomical_Twilight  \n",
              "2845337            Day            Day               Day                   Day  \n",
              "2845338            Day            Day               Day                   Day  \n",
              "2845339            Day            Day               Day                   Day  \n",
              "2845340            Day            Day               Day                   Day  \n",
              "2845341            Day            Day               Day                   Day  \n",
              "\n",
              "[5 rows x 47 columns]"
            ],
            "text/html": [
              "\n",
              "  <div id=\"df-e21accc9-8b9c-4278-94ed-520d8ff5fedb\">\n",
              "    <div class=\"colab-df-container\">\n",
              "      <div>\n",
              "<style scoped>\n",
              "    .dataframe tbody tr th:only-of-type {\n",
              "        vertical-align: middle;\n",
              "    }\n",
              "\n",
              "    .dataframe tbody tr th {\n",
              "        vertical-align: top;\n",
              "    }\n",
              "\n",
              "    .dataframe thead th {\n",
              "        text-align: right;\n",
              "    }\n",
              "</style>\n",
              "<table border=\"1\" class=\"dataframe\">\n",
              "  <thead>\n",
              "    <tr style=\"text-align: right;\">\n",
              "      <th></th>\n",
              "      <th>ID</th>\n",
              "      <th>Severity</th>\n",
              "      <th>Start_Time</th>\n",
              "      <th>End_Time</th>\n",
              "      <th>Start_Lat</th>\n",
              "      <th>Start_Lng</th>\n",
              "      <th>End_Lat</th>\n",
              "      <th>End_Lng</th>\n",
              "      <th>Distance(mi)</th>\n",
              "      <th>Description</th>\n",
              "      <th>...</th>\n",
              "      <th>Roundabout</th>\n",
              "      <th>Station</th>\n",
              "      <th>Stop</th>\n",
              "      <th>Traffic_Calming</th>\n",
              "      <th>Traffic_Signal</th>\n",
              "      <th>Turning_Loop</th>\n",
              "      <th>Sunrise_Sunset</th>\n",
              "      <th>Civil_Twilight</th>\n",
              "      <th>Nautical_Twilight</th>\n",
              "      <th>Astronomical_Twilight</th>\n",
              "    </tr>\n",
              "  </thead>\n",
              "  <tbody>\n",
              "    <tr>\n",
              "      <th>2845337</th>\n",
              "      <td>A-2845338</td>\n",
              "      <td>2</td>\n",
              "      <td>2019-08-23 18:03:25</td>\n",
              "      <td>2019-08-23 18:32:01</td>\n",
              "      <td>34.00248</td>\n",
              "      <td>-117.37936</td>\n",
              "      <td>33.99888</td>\n",
              "      <td>-117.37094</td>\n",
              "      <td>0.543</td>\n",
              "      <td>At Market St - Accident.</td>\n",
              "      <td>...</td>\n",
              "      <td>False</td>\n",
              "      <td>False</td>\n",
              "      <td>False</td>\n",
              "      <td>False</td>\n",
              "      <td>False</td>\n",
              "      <td>False</td>\n",
              "      <td>Day</td>\n",
              "      <td>Day</td>\n",
              "      <td>Day</td>\n",
              "      <td>Day</td>\n",
              "    </tr>\n",
              "    <tr>\n",
              "      <th>2845338</th>\n",
              "      <td>A-2845339</td>\n",
              "      <td>2</td>\n",
              "      <td>2019-08-23 19:11:30</td>\n",
              "      <td>2019-08-23 19:38:23</td>\n",
              "      <td>32.76696</td>\n",
              "      <td>-117.14806</td>\n",
              "      <td>32.76555</td>\n",
              "      <td>-117.15363</td>\n",
              "      <td>0.338</td>\n",
              "      <td>At Camino Del Rio/Mission Center Rd - Accident.</td>\n",
              "      <td>...</td>\n",
              "      <td>False</td>\n",
              "      <td>False</td>\n",
              "      <td>False</td>\n",
              "      <td>False</td>\n",
              "      <td>False</td>\n",
              "      <td>False</td>\n",
              "      <td>Day</td>\n",
              "      <td>Day</td>\n",
              "      <td>Day</td>\n",
              "      <td>Day</td>\n",
              "    </tr>\n",
              "    <tr>\n",
              "      <th>2845339</th>\n",
              "      <td>A-2845340</td>\n",
              "      <td>2</td>\n",
              "      <td>2019-08-23 19:00:21</td>\n",
              "      <td>2019-08-23 19:28:49</td>\n",
              "      <td>33.77545</td>\n",
              "      <td>-117.84779</td>\n",
              "      <td>33.77740</td>\n",
              "      <td>-117.85727</td>\n",
              "      <td>0.561</td>\n",
              "      <td>At Glassell St/Grand Ave - Accident. in the ri...</td>\n",
              "      <td>...</td>\n",
              "      <td>False</td>\n",
              "      <td>False</td>\n",
              "      <td>False</td>\n",
              "      <td>False</td>\n",
              "      <td>False</td>\n",
              "      <td>False</td>\n",
              "      <td>Day</td>\n",
              "      <td>Day</td>\n",
              "      <td>Day</td>\n",
              "      <td>Day</td>\n",
              "    </tr>\n",
              "    <tr>\n",
              "      <th>2845340</th>\n",
              "      <td>A-2845341</td>\n",
              "      <td>2</td>\n",
              "      <td>2019-08-23 19:00:21</td>\n",
              "      <td>2019-08-23 19:29:42</td>\n",
              "      <td>33.99246</td>\n",
              "      <td>-118.40302</td>\n",
              "      <td>33.98311</td>\n",
              "      <td>-118.39565</td>\n",
              "      <td>0.772</td>\n",
              "      <td>At CA-90/Marina Fwy/Jefferson Blvd - Accident.</td>\n",
              "      <td>...</td>\n",
              "      <td>False</td>\n",
              "      <td>False</td>\n",
              "      <td>False</td>\n",
              "      <td>False</td>\n",
              "      <td>False</td>\n",
              "      <td>False</td>\n",
              "      <td>Day</td>\n",
              "      <td>Day</td>\n",
              "      <td>Day</td>\n",
              "      <td>Day</td>\n",
              "    </tr>\n",
              "    <tr>\n",
              "      <th>2845341</th>\n",
              "      <td>A-2845342</td>\n",
              "      <td>2</td>\n",
              "      <td>2019-08-23 18:52:06</td>\n",
              "      <td>2019-08-23 19:21:31</td>\n",
              "      <td>34.13393</td>\n",
              "      <td>-117.23092</td>\n",
              "      <td>34.13736</td>\n",
              "      <td>-117.23934</td>\n",
              "      <td>0.537</td>\n",
              "      <td>At Highland Ave/Arden Ave - Accident.</td>\n",
              "      <td>...</td>\n",
              "      <td>False</td>\n",
              "      <td>False</td>\n",
              "      <td>False</td>\n",
              "      <td>False</td>\n",
              "      <td>False</td>\n",
              "      <td>False</td>\n",
              "      <td>Day</td>\n",
              "      <td>Day</td>\n",
              "      <td>Day</td>\n",
              "      <td>Day</td>\n",
              "    </tr>\n",
              "  </tbody>\n",
              "</table>\n",
              "<p>5 rows × 47 columns</p>\n",
              "</div>\n",
              "      <button class=\"colab-df-convert\" onclick=\"convertToInteractive('df-e21accc9-8b9c-4278-94ed-520d8ff5fedb')\"\n",
              "              title=\"Convert this dataframe to an interactive table.\"\n",
              "              style=\"display:none;\">\n",
              "        \n",
              "  <svg xmlns=\"http://www.w3.org/2000/svg\" height=\"24px\"viewBox=\"0 0 24 24\"\n",
              "       width=\"24px\">\n",
              "    <path d=\"M0 0h24v24H0V0z\" fill=\"none\"/>\n",
              "    <path d=\"M18.56 5.44l.94 2.06.94-2.06 2.06-.94-2.06-.94-.94-2.06-.94 2.06-2.06.94zm-11 1L8.5 8.5l.94-2.06 2.06-.94-2.06-.94L8.5 2.5l-.94 2.06-2.06.94zm10 10l.94 2.06.94-2.06 2.06-.94-2.06-.94-.94-2.06-.94 2.06-2.06.94z\"/><path d=\"M17.41 7.96l-1.37-1.37c-.4-.4-.92-.59-1.43-.59-.52 0-1.04.2-1.43.59L10.3 9.45l-7.72 7.72c-.78.78-.78 2.05 0 2.83L4 21.41c.39.39.9.59 1.41.59.51 0 1.02-.2 1.41-.59l7.78-7.78 2.81-2.81c.8-.78.8-2.07 0-2.86zM5.41 20L4 18.59l7.72-7.72 1.47 1.35L5.41 20z\"/>\n",
              "  </svg>\n",
              "      </button>\n",
              "      \n",
              "  <style>\n",
              "    .colab-df-container {\n",
              "      display:flex;\n",
              "      flex-wrap:wrap;\n",
              "      gap: 12px;\n",
              "    }\n",
              "\n",
              "    .colab-df-convert {\n",
              "      background-color: #E8F0FE;\n",
              "      border: none;\n",
              "      border-radius: 50%;\n",
              "      cursor: pointer;\n",
              "      display: none;\n",
              "      fill: #1967D2;\n",
              "      height: 32px;\n",
              "      padding: 0 0 0 0;\n",
              "      width: 32px;\n",
              "    }\n",
              "\n",
              "    .colab-df-convert:hover {\n",
              "      background-color: #E2EBFA;\n",
              "      box-shadow: 0px 1px 2px rgba(60, 64, 67, 0.3), 0px 1px 3px 1px rgba(60, 64, 67, 0.15);\n",
              "      fill: #174EA6;\n",
              "    }\n",
              "\n",
              "    [theme=dark] .colab-df-convert {\n",
              "      background-color: #3B4455;\n",
              "      fill: #D2E3FC;\n",
              "    }\n",
              "\n",
              "    [theme=dark] .colab-df-convert:hover {\n",
              "      background-color: #434B5C;\n",
              "      box-shadow: 0px 1px 3px 1px rgba(0, 0, 0, 0.15);\n",
              "      filter: drop-shadow(0px 1px 2px rgba(0, 0, 0, 0.3));\n",
              "      fill: #FFFFFF;\n",
              "    }\n",
              "  </style>\n",
              "\n",
              "      <script>\n",
              "        const buttonEl =\n",
              "          document.querySelector('#df-e21accc9-8b9c-4278-94ed-520d8ff5fedb button.colab-df-convert');\n",
              "        buttonEl.style.display =\n",
              "          google.colab.kernel.accessAllowed ? 'block' : 'none';\n",
              "\n",
              "        async function convertToInteractive(key) {\n",
              "          const element = document.querySelector('#df-e21accc9-8b9c-4278-94ed-520d8ff5fedb');\n",
              "          const dataTable =\n",
              "            await google.colab.kernel.invokeFunction('convertToInteractive',\n",
              "                                                     [key], {});\n",
              "          if (!dataTable) return;\n",
              "\n",
              "          const docLinkHtml = 'Like what you see? Visit the ' +\n",
              "            '<a target=\"_blank\" href=https://colab.research.google.com/notebooks/data_table.ipynb>data table notebook</a>'\n",
              "            + ' to learn more about interactive tables.';\n",
              "          element.innerHTML = '';\n",
              "          dataTable['output_type'] = 'display_data';\n",
              "          await google.colab.output.renderOutput(dataTable, element);\n",
              "          const docLink = document.createElement('div');\n",
              "          docLink.innerHTML = docLinkHtml;\n",
              "          element.appendChild(docLink);\n",
              "        }\n",
              "      </script>\n",
              "    </div>\n",
              "  </div>\n",
              "  "
            ]
          },
          "metadata": {},
          "execution_count": 205
        }
      ]
    },
    {
      "cell_type": "code",
      "source": [
        "data.info()"
      ],
      "metadata": {
        "colab": {
          "base_uri": "https://localhost:8080/"
        },
        "id": "E5AByndDv_g1",
        "outputId": "54b54510-41be-4784-9582-75ec4238ed7d"
      },
      "execution_count": 34,
      "outputs": [
        {
          "output_type": "stream",
          "name": "stdout",
          "text": [
            "<class 'pandas.core.frame.DataFrame'>\n",
            "RangeIndex: 2845342 entries, 0 to 2845341\n",
            "Data columns (total 47 columns):\n",
            " #   Column                 Dtype  \n",
            "---  ------                 -----  \n",
            " 0   ID                     object \n",
            " 1   Severity               int64  \n",
            " 2   Start_Time             object \n",
            " 3   End_Time               object \n",
            " 4   Start_Lat              float64\n",
            " 5   Start_Lng              float64\n",
            " 6   End_Lat                float64\n",
            " 7   End_Lng                float64\n",
            " 8   Distance(mi)           float64\n",
            " 9   Description            object \n",
            " 10  Number                 float64\n",
            " 11  Street                 object \n",
            " 12  Side                   object \n",
            " 13  City                   object \n",
            " 14  County                 object \n",
            " 15  State                  object \n",
            " 16  Zipcode                object \n",
            " 17  Country                object \n",
            " 18  Timezone               object \n",
            " 19  Airport_Code           object \n",
            " 20  Weather_Timestamp      object \n",
            " 21  Temperature(F)         float64\n",
            " 22  Wind_Chill(F)          float64\n",
            " 23  Humidity(%)            float64\n",
            " 24  Pressure(in)           float64\n",
            " 25  Visibility(mi)         float64\n",
            " 26  Wind_Direction         object \n",
            " 27  Wind_Speed(mph)        float64\n",
            " 28  Precipitation(in)      float64\n",
            " 29  Weather_Condition      object \n",
            " 30  Amenity                bool   \n",
            " 31  Bump                   bool   \n",
            " 32  Crossing               bool   \n",
            " 33  Give_Way               bool   \n",
            " 34  Junction               bool   \n",
            " 35  No_Exit                bool   \n",
            " 36  Railway                bool   \n",
            " 37  Roundabout             bool   \n",
            " 38  Station                bool   \n",
            " 39  Stop                   bool   \n",
            " 40  Traffic_Calming        bool   \n",
            " 41  Traffic_Signal         bool   \n",
            " 42  Turning_Loop           bool   \n",
            " 43  Sunrise_Sunset         object \n",
            " 44  Civil_Twilight         object \n",
            " 45  Nautical_Twilight      object \n",
            " 46  Astronomical_Twilight  object \n",
            "dtypes: bool(13), float64(13), int64(1), object(20)\n",
            "memory usage: 773.4+ MB\n"
          ]
        }
      ]
    },
    {
      "cell_type": "code",
      "source": [
        "data.describe()"
      ],
      "metadata": {
        "colab": {
          "base_uri": "https://localhost:8080/",
          "height": 364
        },
        "id": "gQP8VME0wq9c",
        "outputId": "c04ccf90-1ef4-4271-c399-4936f9c61e67"
      },
      "execution_count": 35,
      "outputs": [
        {
          "output_type": "execute_result",
          "data": {
            "text/plain": [
              "           Severity     Start_Lat     Start_Lng       End_Lat       End_Lng  \\\n",
              "count  2.845342e+06  2.845342e+06  2.845342e+06  2.845342e+06  2.845342e+06   \n",
              "mean   2.137572e+00  3.624520e+01 -9.711463e+01  3.624532e+01 -9.711439e+01   \n",
              "std    4.787216e-01  5.363797e+00  1.831782e+01  5.363873e+00  1.831763e+01   \n",
              "min    1.000000e+00  2.456603e+01 -1.245481e+02  2.456601e+01 -1.245457e+02   \n",
              "25%    2.000000e+00  3.344517e+01 -1.180331e+02  3.344628e+01 -1.180333e+02   \n",
              "50%    2.000000e+00  3.609861e+01 -9.241808e+01  3.609799e+01 -9.241772e+01   \n",
              "75%    2.000000e+00  4.016024e+01 -8.037243e+01  4.016105e+01 -8.037338e+01   \n",
              "max    4.000000e+00  4.900058e+01 -6.711317e+01  4.907500e+01 -6.710924e+01   \n",
              "\n",
              "       Distance(mi)        Number  Temperature(F)  Wind_Chill(F)  \\\n",
              "count  2.845342e+06  1.101431e+06    2.776068e+06   2.375699e+06   \n",
              "mean   7.026779e-01  8.089408e+03    6.179356e+01   5.965823e+01   \n",
              "std    1.560361e+00  1.836009e+04    1.862263e+01   2.116097e+01   \n",
              "min    0.000000e+00  0.000000e+00   -8.900000e+01  -8.900000e+01   \n",
              "25%    5.200000e-02  1.270000e+03    5.000000e+01   4.600000e+01   \n",
              "50%    2.440000e-01  4.007000e+03    6.400000e+01   6.300000e+01   \n",
              "75%    7.640000e-01  9.567000e+03    7.600000e+01   7.600000e+01   \n",
              "max    1.551860e+02  9.999997e+06    1.960000e+02   1.960000e+02   \n",
              "\n",
              "        Humidity(%)  Pressure(in)  Visibility(mi)  Wind_Speed(mph)  \\\n",
              "count  2.772250e+06  2.786142e+06    2.774796e+06     2.687398e+06   \n",
              "mean   6.436545e+01  2.947234e+01    9.099391e+00     7.395044e+00   \n",
              "std    2.287457e+01  1.045286e+00    2.717546e+00     5.527454e+00   \n",
              "min    1.000000e+00  0.000000e+00    0.000000e+00     0.000000e+00   \n",
              "25%    4.800000e+01  2.931000e+01    1.000000e+01     3.500000e+00   \n",
              "50%    6.700000e+01  2.982000e+01    1.000000e+01     7.000000e+00   \n",
              "75%    8.300000e+01  3.001000e+01    1.000000e+01     1.000000e+01   \n",
              "max    1.000000e+02  5.890000e+01    1.400000e+02     1.087000e+03   \n",
              "\n",
              "       Precipitation(in)  \n",
              "count       2.295884e+06  \n",
              "mean        7.016940e-03  \n",
              "std         9.348831e-02  \n",
              "min         0.000000e+00  \n",
              "25%         0.000000e+00  \n",
              "50%         0.000000e+00  \n",
              "75%         0.000000e+00  \n",
              "max         2.400000e+01  "
            ],
            "text/html": [
              "\n",
              "  <div id=\"df-cabdead0-c860-4f2d-8bfa-c5c37ba14763\">\n",
              "    <div class=\"colab-df-container\">\n",
              "      <div>\n",
              "<style scoped>\n",
              "    .dataframe tbody tr th:only-of-type {\n",
              "        vertical-align: middle;\n",
              "    }\n",
              "\n",
              "    .dataframe tbody tr th {\n",
              "        vertical-align: top;\n",
              "    }\n",
              "\n",
              "    .dataframe thead th {\n",
              "        text-align: right;\n",
              "    }\n",
              "</style>\n",
              "<table border=\"1\" class=\"dataframe\">\n",
              "  <thead>\n",
              "    <tr style=\"text-align: right;\">\n",
              "      <th></th>\n",
              "      <th>Severity</th>\n",
              "      <th>Start_Lat</th>\n",
              "      <th>Start_Lng</th>\n",
              "      <th>End_Lat</th>\n",
              "      <th>End_Lng</th>\n",
              "      <th>Distance(mi)</th>\n",
              "      <th>Number</th>\n",
              "      <th>Temperature(F)</th>\n",
              "      <th>Wind_Chill(F)</th>\n",
              "      <th>Humidity(%)</th>\n",
              "      <th>Pressure(in)</th>\n",
              "      <th>Visibility(mi)</th>\n",
              "      <th>Wind_Speed(mph)</th>\n",
              "      <th>Precipitation(in)</th>\n",
              "    </tr>\n",
              "  </thead>\n",
              "  <tbody>\n",
              "    <tr>\n",
              "      <th>count</th>\n",
              "      <td>2.845342e+06</td>\n",
              "      <td>2.845342e+06</td>\n",
              "      <td>2.845342e+06</td>\n",
              "      <td>2.845342e+06</td>\n",
              "      <td>2.845342e+06</td>\n",
              "      <td>2.845342e+06</td>\n",
              "      <td>1.101431e+06</td>\n",
              "      <td>2.776068e+06</td>\n",
              "      <td>2.375699e+06</td>\n",
              "      <td>2.772250e+06</td>\n",
              "      <td>2.786142e+06</td>\n",
              "      <td>2.774796e+06</td>\n",
              "      <td>2.687398e+06</td>\n",
              "      <td>2.295884e+06</td>\n",
              "    </tr>\n",
              "    <tr>\n",
              "      <th>mean</th>\n",
              "      <td>2.137572e+00</td>\n",
              "      <td>3.624520e+01</td>\n",
              "      <td>-9.711463e+01</td>\n",
              "      <td>3.624532e+01</td>\n",
              "      <td>-9.711439e+01</td>\n",
              "      <td>7.026779e-01</td>\n",
              "      <td>8.089408e+03</td>\n",
              "      <td>6.179356e+01</td>\n",
              "      <td>5.965823e+01</td>\n",
              "      <td>6.436545e+01</td>\n",
              "      <td>2.947234e+01</td>\n",
              "      <td>9.099391e+00</td>\n",
              "      <td>7.395044e+00</td>\n",
              "      <td>7.016940e-03</td>\n",
              "    </tr>\n",
              "    <tr>\n",
              "      <th>std</th>\n",
              "      <td>4.787216e-01</td>\n",
              "      <td>5.363797e+00</td>\n",
              "      <td>1.831782e+01</td>\n",
              "      <td>5.363873e+00</td>\n",
              "      <td>1.831763e+01</td>\n",
              "      <td>1.560361e+00</td>\n",
              "      <td>1.836009e+04</td>\n",
              "      <td>1.862263e+01</td>\n",
              "      <td>2.116097e+01</td>\n",
              "      <td>2.287457e+01</td>\n",
              "      <td>1.045286e+00</td>\n",
              "      <td>2.717546e+00</td>\n",
              "      <td>5.527454e+00</td>\n",
              "      <td>9.348831e-02</td>\n",
              "    </tr>\n",
              "    <tr>\n",
              "      <th>min</th>\n",
              "      <td>1.000000e+00</td>\n",
              "      <td>2.456603e+01</td>\n",
              "      <td>-1.245481e+02</td>\n",
              "      <td>2.456601e+01</td>\n",
              "      <td>-1.245457e+02</td>\n",
              "      <td>0.000000e+00</td>\n",
              "      <td>0.000000e+00</td>\n",
              "      <td>-8.900000e+01</td>\n",
              "      <td>-8.900000e+01</td>\n",
              "      <td>1.000000e+00</td>\n",
              "      <td>0.000000e+00</td>\n",
              "      <td>0.000000e+00</td>\n",
              "      <td>0.000000e+00</td>\n",
              "      <td>0.000000e+00</td>\n",
              "    </tr>\n",
              "    <tr>\n",
              "      <th>25%</th>\n",
              "      <td>2.000000e+00</td>\n",
              "      <td>3.344517e+01</td>\n",
              "      <td>-1.180331e+02</td>\n",
              "      <td>3.344628e+01</td>\n",
              "      <td>-1.180333e+02</td>\n",
              "      <td>5.200000e-02</td>\n",
              "      <td>1.270000e+03</td>\n",
              "      <td>5.000000e+01</td>\n",
              "      <td>4.600000e+01</td>\n",
              "      <td>4.800000e+01</td>\n",
              "      <td>2.931000e+01</td>\n",
              "      <td>1.000000e+01</td>\n",
              "      <td>3.500000e+00</td>\n",
              "      <td>0.000000e+00</td>\n",
              "    </tr>\n",
              "    <tr>\n",
              "      <th>50%</th>\n",
              "      <td>2.000000e+00</td>\n",
              "      <td>3.609861e+01</td>\n",
              "      <td>-9.241808e+01</td>\n",
              "      <td>3.609799e+01</td>\n",
              "      <td>-9.241772e+01</td>\n",
              "      <td>2.440000e-01</td>\n",
              "      <td>4.007000e+03</td>\n",
              "      <td>6.400000e+01</td>\n",
              "      <td>6.300000e+01</td>\n",
              "      <td>6.700000e+01</td>\n",
              "      <td>2.982000e+01</td>\n",
              "      <td>1.000000e+01</td>\n",
              "      <td>7.000000e+00</td>\n",
              "      <td>0.000000e+00</td>\n",
              "    </tr>\n",
              "    <tr>\n",
              "      <th>75%</th>\n",
              "      <td>2.000000e+00</td>\n",
              "      <td>4.016024e+01</td>\n",
              "      <td>-8.037243e+01</td>\n",
              "      <td>4.016105e+01</td>\n",
              "      <td>-8.037338e+01</td>\n",
              "      <td>7.640000e-01</td>\n",
              "      <td>9.567000e+03</td>\n",
              "      <td>7.600000e+01</td>\n",
              "      <td>7.600000e+01</td>\n",
              "      <td>8.300000e+01</td>\n",
              "      <td>3.001000e+01</td>\n",
              "      <td>1.000000e+01</td>\n",
              "      <td>1.000000e+01</td>\n",
              "      <td>0.000000e+00</td>\n",
              "    </tr>\n",
              "    <tr>\n",
              "      <th>max</th>\n",
              "      <td>4.000000e+00</td>\n",
              "      <td>4.900058e+01</td>\n",
              "      <td>-6.711317e+01</td>\n",
              "      <td>4.907500e+01</td>\n",
              "      <td>-6.710924e+01</td>\n",
              "      <td>1.551860e+02</td>\n",
              "      <td>9.999997e+06</td>\n",
              "      <td>1.960000e+02</td>\n",
              "      <td>1.960000e+02</td>\n",
              "      <td>1.000000e+02</td>\n",
              "      <td>5.890000e+01</td>\n",
              "      <td>1.400000e+02</td>\n",
              "      <td>1.087000e+03</td>\n",
              "      <td>2.400000e+01</td>\n",
              "    </tr>\n",
              "  </tbody>\n",
              "</table>\n",
              "</div>\n",
              "      <button class=\"colab-df-convert\" onclick=\"convertToInteractive('df-cabdead0-c860-4f2d-8bfa-c5c37ba14763')\"\n",
              "              title=\"Convert this dataframe to an interactive table.\"\n",
              "              style=\"display:none;\">\n",
              "        \n",
              "  <svg xmlns=\"http://www.w3.org/2000/svg\" height=\"24px\"viewBox=\"0 0 24 24\"\n",
              "       width=\"24px\">\n",
              "    <path d=\"M0 0h24v24H0V0z\" fill=\"none\"/>\n",
              "    <path d=\"M18.56 5.44l.94 2.06.94-2.06 2.06-.94-2.06-.94-.94-2.06-.94 2.06-2.06.94zm-11 1L8.5 8.5l.94-2.06 2.06-.94-2.06-.94L8.5 2.5l-.94 2.06-2.06.94zm10 10l.94 2.06.94-2.06 2.06-.94-2.06-.94-.94-2.06-.94 2.06-2.06.94z\"/><path d=\"M17.41 7.96l-1.37-1.37c-.4-.4-.92-.59-1.43-.59-.52 0-1.04.2-1.43.59L10.3 9.45l-7.72 7.72c-.78.78-.78 2.05 0 2.83L4 21.41c.39.39.9.59 1.41.59.51 0 1.02-.2 1.41-.59l7.78-7.78 2.81-2.81c.8-.78.8-2.07 0-2.86zM5.41 20L4 18.59l7.72-7.72 1.47 1.35L5.41 20z\"/>\n",
              "  </svg>\n",
              "      </button>\n",
              "      \n",
              "  <style>\n",
              "    .colab-df-container {\n",
              "      display:flex;\n",
              "      flex-wrap:wrap;\n",
              "      gap: 12px;\n",
              "    }\n",
              "\n",
              "    .colab-df-convert {\n",
              "      background-color: #E8F0FE;\n",
              "      border: none;\n",
              "      border-radius: 50%;\n",
              "      cursor: pointer;\n",
              "      display: none;\n",
              "      fill: #1967D2;\n",
              "      height: 32px;\n",
              "      padding: 0 0 0 0;\n",
              "      width: 32px;\n",
              "    }\n",
              "\n",
              "    .colab-df-convert:hover {\n",
              "      background-color: #E2EBFA;\n",
              "      box-shadow: 0px 1px 2px rgba(60, 64, 67, 0.3), 0px 1px 3px 1px rgba(60, 64, 67, 0.15);\n",
              "      fill: #174EA6;\n",
              "    }\n",
              "\n",
              "    [theme=dark] .colab-df-convert {\n",
              "      background-color: #3B4455;\n",
              "      fill: #D2E3FC;\n",
              "    }\n",
              "\n",
              "    [theme=dark] .colab-df-convert:hover {\n",
              "      background-color: #434B5C;\n",
              "      box-shadow: 0px 1px 3px 1px rgba(0, 0, 0, 0.15);\n",
              "      filter: drop-shadow(0px 1px 2px rgba(0, 0, 0, 0.3));\n",
              "      fill: #FFFFFF;\n",
              "    }\n",
              "  </style>\n",
              "\n",
              "      <script>\n",
              "        const buttonEl =\n",
              "          document.querySelector('#df-cabdead0-c860-4f2d-8bfa-c5c37ba14763 button.colab-df-convert');\n",
              "        buttonEl.style.display =\n",
              "          google.colab.kernel.accessAllowed ? 'block' : 'none';\n",
              "\n",
              "        async function convertToInteractive(key) {\n",
              "          const element = document.querySelector('#df-cabdead0-c860-4f2d-8bfa-c5c37ba14763');\n",
              "          const dataTable =\n",
              "            await google.colab.kernel.invokeFunction('convertToInteractive',\n",
              "                                                     [key], {});\n",
              "          if (!dataTable) return;\n",
              "\n",
              "          const docLinkHtml = 'Like what you see? Visit the ' +\n",
              "            '<a target=\"_blank\" href=https://colab.research.google.com/notebooks/data_table.ipynb>data table notebook</a>'\n",
              "            + ' to learn more about interactive tables.';\n",
              "          element.innerHTML = '';\n",
              "          dataTable['output_type'] = 'display_data';\n",
              "          await google.colab.output.renderOutput(dataTable, element);\n",
              "          const docLink = document.createElement('div');\n",
              "          docLink.innerHTML = docLinkHtml;\n",
              "          element.appendChild(docLink);\n",
              "        }\n",
              "      </script>\n",
              "    </div>\n",
              "  </div>\n",
              "  "
            ]
          },
          "metadata": {},
          "execution_count": 35
        }
      ]
    },
    {
      "cell_type": "code",
      "source": [
        "len(data.columns)"
      ],
      "metadata": {
        "colab": {
          "base_uri": "https://localhost:8080/"
        },
        "id": "sKFT0iFKwv8K",
        "outputId": "c4c2da11-e443-4aa4-a1a8-7e35fda6d782"
      },
      "execution_count": 36,
      "outputs": [
        {
          "output_type": "execute_result",
          "data": {
            "text/plain": [
              "47"
            ]
          },
          "metadata": {},
          "execution_count": 36
        }
      ]
    },
    {
      "cell_type": "code",
      "source": [
        "data.dtypes.value_counts()"
      ],
      "metadata": {
        "colab": {
          "base_uri": "https://localhost:8080/"
        },
        "id": "13NmTPlzxcFC",
        "outputId": "395ce584-467d-4c46-fde6-ce64097c90f5"
      },
      "execution_count": 37,
      "outputs": [
        {
          "output_type": "execute_result",
          "data": {
            "text/plain": [
              "object     20\n",
              "float64    13\n",
              "bool       13\n",
              "int64       1\n",
              "dtype: int64"
            ]
          },
          "metadata": {},
          "execution_count": 37
        }
      ]
    },
    {
      "cell_type": "code",
      "source": [
        "data.isna().sum().sort_values(ascending =False)"
      ],
      "metadata": {
        "colab": {
          "base_uri": "https://localhost:8080/"
        },
        "id": "ifu7yWUrx44_",
        "outputId": "e6ba8306-8b53-4047-dbc9-76b989c42297"
      },
      "execution_count": 38,
      "outputs": [
        {
          "output_type": "execute_result",
          "data": {
            "text/plain": [
              "Number                   1743911\n",
              "Precipitation(in)         549458\n",
              "Wind_Chill(F)             469643\n",
              "Wind_Speed(mph)           157944\n",
              "Wind_Direction             73775\n",
              "Humidity(%)                73092\n",
              "Weather_Condition          70636\n",
              "Visibility(mi)             70546\n",
              "Temperature(F)             69274\n",
              "Pressure(in)               59200\n",
              "Weather_Timestamp          50736\n",
              "Airport_Code                9549\n",
              "Timezone                    3659\n",
              "Nautical_Twilight           2867\n",
              "Civil_Twilight              2867\n",
              "Sunrise_Sunset              2867\n",
              "Astronomical_Twilight       2867\n",
              "Zipcode                     1319\n",
              "City                         137\n",
              "Street                         2\n",
              "Country                        0\n",
              "Junction                       0\n",
              "Start_Time                     0\n",
              "End_Time                       0\n",
              "Start_Lat                      0\n",
              "Turning_Loop                   0\n",
              "Traffic_Signal                 0\n",
              "Traffic_Calming                0\n",
              "Stop                           0\n",
              "Station                        0\n",
              "Roundabout                     0\n",
              "Railway                        0\n",
              "No_Exit                        0\n",
              "Crossing                       0\n",
              "Give_Way                       0\n",
              "Bump                           0\n",
              "Amenity                        0\n",
              "Start_Lng                      0\n",
              "End_Lat                        0\n",
              "End_Lng                        0\n",
              "Distance(mi)                   0\n",
              "Description                    0\n",
              "Severity                       0\n",
              "Side                           0\n",
              "County                         0\n",
              "State                          0\n",
              "ID                             0\n",
              "dtype: int64"
            ]
          },
          "metadata": {},
          "execution_count": 38
        }
      ]
    },
    {
      "cell_type": "code",
      "source": [
        "missing_percentage = data.isnull().sum().sort_values(ascending = False)/len(data)\n",
        "missing_percentage"
      ],
      "metadata": {
        "colab": {
          "base_uri": "https://localhost:8080/"
        },
        "id": "1cnbnM3Dywly",
        "outputId": "3eecdc7e-16f7-4c46-93a1-41db92541a44"
      },
      "execution_count": 39,
      "outputs": [
        {
          "output_type": "execute_result",
          "data": {
            "text/plain": [
              "Number                   6.129003e-01\n",
              "Precipitation(in)        1.931079e-01\n",
              "Wind_Chill(F)            1.650568e-01\n",
              "Wind_Speed(mph)          5.550967e-02\n",
              "Wind_Direction           2.592834e-02\n",
              "Humidity(%)              2.568830e-02\n",
              "Weather_Condition        2.482514e-02\n",
              "Visibility(mi)           2.479350e-02\n",
              "Temperature(F)           2.434646e-02\n",
              "Pressure(in)             2.080593e-02\n",
              "Weather_Timestamp        1.783125e-02\n",
              "Airport_Code             3.356011e-03\n",
              "Timezone                 1.285961e-03\n",
              "Nautical_Twilight        1.007612e-03\n",
              "Civil_Twilight           1.007612e-03\n",
              "Sunrise_Sunset           1.007612e-03\n",
              "Astronomical_Twilight    1.007612e-03\n",
              "Zipcode                  4.635647e-04\n",
              "City                     4.814887e-05\n",
              "Street                   7.029032e-07\n",
              "Country                  0.000000e+00\n",
              "Junction                 0.000000e+00\n",
              "Start_Time               0.000000e+00\n",
              "End_Time                 0.000000e+00\n",
              "Start_Lat                0.000000e+00\n",
              "Turning_Loop             0.000000e+00\n",
              "Traffic_Signal           0.000000e+00\n",
              "Traffic_Calming          0.000000e+00\n",
              "Stop                     0.000000e+00\n",
              "Station                  0.000000e+00\n",
              "Roundabout               0.000000e+00\n",
              "Railway                  0.000000e+00\n",
              "No_Exit                  0.000000e+00\n",
              "Crossing                 0.000000e+00\n",
              "Give_Way                 0.000000e+00\n",
              "Bump                     0.000000e+00\n",
              "Amenity                  0.000000e+00\n",
              "Start_Lng                0.000000e+00\n",
              "End_Lat                  0.000000e+00\n",
              "End_Lng                  0.000000e+00\n",
              "Distance(mi)             0.000000e+00\n",
              "Description              0.000000e+00\n",
              "Severity                 0.000000e+00\n",
              "Side                     0.000000e+00\n",
              "County                   0.000000e+00\n",
              "State                    0.000000e+00\n",
              "ID                       0.000000e+00\n",
              "dtype: float64"
            ]
          },
          "metadata": {},
          "execution_count": 39
        }
      ]
    },
    {
      "cell_type": "code",
      "source": [
        "missing_percentage[missing_percentage > 0].plot(kind = 'barh')"
      ],
      "metadata": {
        "colab": {
          "base_uri": "https://localhost:8080/",
          "height": 282
        },
        "id": "aRnlln9d0_XW",
        "outputId": "98b4117a-9609-40b7-c0d1-469e6abcf935"
      },
      "execution_count": 40,
      "outputs": [
        {
          "output_type": "execute_result",
          "data": {
            "text/plain": [
              "<matplotlib.axes._subplots.AxesSubplot at 0x7f41c050a1f0>"
            ]
          },
          "metadata": {},
          "execution_count": 40
        },
        {
          "output_type": "display_data",
          "data": {
            "text/plain": [
              "<Figure size 432x288 with 1 Axes>"
            ],
            "image/png": "[encoded data removed]"
          },
          "metadata": {
            "needs_background": "light"
          }
        }
      ]
    },
    {
      "cell_type": "code",
      "source": [
        "data.columns"
      ],
      "metadata": {
        "colab": {
          "base_uri": "https://localhost:8080/"
        },
        "id": "f1qx8VL_5Sd5",
        "outputId": "b5e386ed-93dd-4f2d-db1b-58130bab9670"
      },
      "execution_count": 41,
      "outputs": [
        {
          "output_type": "execute_result",
          "data": {
            "text/plain": [
              "Index(['ID', 'Severity', 'Start_Time', 'End_Time', 'Start_Lat', 'Start_Lng',\n",
              "       'End_Lat', 'End_Lng', 'Distance(mi)', 'Description', 'Number', 'Street',\n",
              "       'Side', 'City', 'County', 'State', 'Zipcode', 'Country', 'Timezone',\n",
              "       'Airport_Code', 'Weather_Timestamp', 'Temperature(F)', 'Wind_Chill(F)',\n",
              "       'Humidity(%)', 'Pressure(in)', 'Visibility(mi)', 'Wind_Direction',\n",
              "       'Wind_Speed(mph)', 'Precipitation(in)', 'Weather_Condition', 'Amenity',\n",
              "       'Bump', 'Crossing', 'Give_Way', 'Junction', 'No_Exit', 'Railway',\n",
              "       'Roundabout', 'Station', 'Stop', 'Traffic_Calming', 'Traffic_Signal',\n",
              "       'Turning_Loop', 'Sunrise_Sunset', 'Civil_Twilight', 'Nautical_Twilight',\n",
              "       'Astronomical_Twilight'],\n",
              "      dtype='object')"
            ]
          },
          "metadata": {},
          "execution_count": 41
        }
      ]
    },
    {
      "cell_type": "markdown",
      "source": [
        "##EDA and ANalysis By using different combinations\n",
        "##Columns to be used in EDA\n",
        "1. Severity\n",
        "\n",
        "2. City\n",
        "\n",
        "4. temprature\n",
        "\n",
        "5. Humidity\n",
        "\n",
        "6. Weather Condition\n",
        "\n",
        "7. Sunset_Sunrise"
      ],
      "metadata": {
        "id": "BBm3Hkju5GQ2"
      }
    },
    {
      "cell_type": "markdown",
      "source": [
        "###City\n"
      ],
      "metadata": {
        "id": "Pe-K2p4Xy_mk"
      }
    },
    {
      "cell_type": "code",
      "source": [
        "data['City']"
      ],
      "metadata": {
        "colab": {
          "base_uri": "https://localhost:8080/"
        },
        "id": "3HVceeKi2FG_",
        "outputId": "ed15f99b-b6d9-4623-f0f3-af8b4f6654b6"
      },
      "execution_count": 42,
      "outputs": [
        {
          "output_type": "execute_result",
          "data": {
            "text/plain": [
              "0               Dublin\n",
              "1               Dayton\n",
              "2           Cincinnati\n",
              "3                Akron\n",
              "4           Cincinnati\n",
              "              ...     \n",
              "2845337      Riverside\n",
              "2845338      San Diego\n",
              "2845339         Orange\n",
              "2845340    Culver City\n",
              "2845341       Highland\n",
              "Name: City, Length: 2845342, dtype: object"
            ]
          },
          "metadata": {},
          "execution_count": 42
        }
      ]
    },
    {
      "cell_type": "code",
      "source": [
        "data['City'].unique()"
      ],
      "metadata": {
        "colab": {
          "base_uri": "https://localhost:8080/"
        },
        "id": "BLZS9f8569FF",
        "outputId": "be3cc37d-c9f5-484e-da89-f8a0ba6ae7fe"
      },
      "execution_count": 43,
      "outputs": [
        {
          "output_type": "execute_result",
          "data": {
            "text/plain": [
              "array(['Dublin', 'Dayton', 'Cincinnati', ..., 'Clarksdale', 'Bridgeboro',\n",
              "       'American Fork-Pleasant Grove'], dtype=object)"
            ]
          },
          "metadata": {},
          "execution_count": 43
        }
      ]
    },
    {
      "cell_type": "code",
      "source": [
        "len(data['City'].unique())"
      ],
      "metadata": {
        "colab": {
          "base_uri": "https://localhost:8080/"
        },
        "id": "0mOcHg7-7L1C",
        "outputId": "7937a9a1-7d3a-4044-b910-6f4d36fed539"
      },
      "execution_count": 44,
      "outputs": [
        {
          "output_type": "execute_result",
          "data": {
            "text/plain": [
              "11682"
            ]
          },
          "metadata": {},
          "execution_count": 44
        }
      ]
    },
    {
      "cell_type": "code",
      "source": [
        "most_accident_cities = data['City'].value_counts()"
      ],
      "metadata": {
        "id": "xdxp9QrF7YOH"
      },
      "execution_count": 45,
      "outputs": []
    },
    {
      "cell_type": "code",
      "source": [
        "most_accident_cities"
      ],
      "metadata": {
        "colab": {
          "base_uri": "https://localhost:8080/"
        },
        "id": "gnXiaVi28Uuk",
        "outputId": "85f784e7-1705-49db-e388-3ee1fdb635ba"
      },
      "execution_count": 46,
      "outputs": [
        {
          "output_type": "execute_result",
          "data": {
            "text/plain": [
              "Miami                           106966\n",
              "Los Angeles                      68956\n",
              "Orlando                          54691\n",
              "Dallas                           41979\n",
              "Houston                          39448\n",
              "                                 ...  \n",
              "Ridgedale                            1\n",
              "Sekiu                                1\n",
              "Wooldridge                           1\n",
              "Bullock                              1\n",
              "American Fork-Pleasant Grove         1\n",
              "Name: City, Length: 11681, dtype: int64"
            ]
          },
          "metadata": {},
          "execution_count": 46
        }
      ]
    },
    {
      "cell_type": "code",
      "source": [
        "most_accident_cities[:10]"
      ],
      "metadata": {
        "colab": {
          "base_uri": "https://localhost:8080/"
        },
        "id": "mITeL4AE8YqO",
        "outputId": "b76e613b-2b4a-4e64-f3a8-4a70a8a6e08b"
      },
      "execution_count": 47,
      "outputs": [
        {
          "output_type": "execute_result",
          "data": {
            "text/plain": [
              "Miami          106966\n",
              "Los Angeles     68956\n",
              "Orlando         54691\n",
              "Dallas          41979\n",
              "Houston         39448\n",
              "Charlotte       33152\n",
              "Sacramento      32559\n",
              "San Diego       26627\n",
              "Raleigh         22840\n",
              "Minneapolis     22768\n",
              "Name: City, dtype: int64"
            ]
          },
          "metadata": {},
          "execution_count": 47
        }
      ]
    },
    {
      "cell_type": "code",
      "source": [
        "data.City[data['City']=='New York'].count()"
      ],
      "metadata": {
        "colab": {
          "base_uri": "https://localhost:8080/"
        },
        "id": "4GoUUI7X8fnU",
        "outputId": "f37035bf-1732-4dd1-980e-3cf265faeda7"
      },
      "execution_count": 206,
      "outputs": [
        {
          "output_type": "execute_result",
          "data": {
            "text/plain": [
              "7068"
            ]
          },
          "metadata": {},
          "execution_count": 206
        }
      ]
    },
    {
      "cell_type": "code",
      "source": [
        "most_accident_cities[:20].plot(kind = 'barh')"
      ],
      "metadata": {
        "colab": {
          "base_uri": "https://localhost:8080/",
          "height": 282
        },
        "id": "z6lt7Yij8siB",
        "outputId": "5f4df31a-923a-4309-e38f-ee8c0b37b1da"
      },
      "execution_count": 49,
      "outputs": [
        {
          "output_type": "execute_result",
          "data": {
            "text/plain": [
              "<matplotlib.axes._subplots.AxesSubplot at 0x7f41de3e98e0>"
            ]
          },
          "metadata": {},
          "execution_count": 49
        },
        {
          "output_type": "display_data",
          "data": {
            "text/plain": [
              "<Figure size 432x288 with 1 Axes>"
            ],
            "image/png": "[encoded data removed]"
          },
          "metadata": {
            "needs_background": "light"
          }
        }
      ]
    },
    {
      "cell_type": "code",
      "source": [
        "sns.histplot(most_accident_cities, log_scale = True)"
      ],
      "metadata": {
        "colab": {
          "base_uri": "https://localhost:8080/",
          "height": 300
        },
        "id": "j6aVsmbrxOVI",
        "outputId": "dc6d056d-24cc-47e2-ecf1-23787831cacd"
      },
      "execution_count": 72,
      "outputs": [
        {
          "output_type": "execute_result",
          "data": {
            "text/plain": [
              "<matplotlib.axes._subplots.AxesSubplot at 0x7f4183217a30>"
            ]
          },
          "metadata": {},
          "execution_count": 72
        },
        {
          "output_type": "display_data",
          "data": {
            "text/plain": [
              "<Figure size 432x288 with 1 Axes>"
            ],
            "image/png": "[encoded data removed]"
          },
          "metadata": {
            "needs_background": "light"
          }
        }
      ]
    },
    {
      "cell_type": "code",
      "source": [
        "High_accident_cities = most_accident_cities[most_accident_cities > 2000]\n",
        "High_accident_cities"
      ],
      "metadata": {
        "id": "QCWRVR47KNIF",
        "colab": {
          "base_uri": "https://localhost:8080/"
        },
        "outputId": "87e918c2-240a-440c-9616-c92b1cb50263"
      },
      "execution_count": 62,
      "outputs": [
        {
          "output_type": "execute_result",
          "data": {
            "text/plain": [
              "Miami          106966\n",
              "Los Angeles     68956\n",
              "Orlando         54691\n",
              "Dallas          41979\n",
              "Houston         39448\n",
              "                ...  \n",
              "Decatur          2041\n",
              "Irving           2035\n",
              "Azusa            2031\n",
              "Middletown       2030\n",
              "Vallejo          2028\n",
              "Name: City, Length: 218, dtype: int64"
            ]
          },
          "metadata": {},
          "execution_count": 62
        }
      ]
    },
    {
      "cell_type": "code",
      "source": [
        "sns.histplot(High_accident_cities, log_scale = True)"
      ],
      "metadata": {
        "colab": {
          "base_uri": "https://localhost:8080/",
          "height": 300
        },
        "id": "LKNS97I7tuYy",
        "outputId": "82169dc5-04a7-481b-b126-47adb63a583a"
      },
      "execution_count": 71,
      "outputs": [
        {
          "output_type": "execute_result",
          "data": {
            "text/plain": [
              "<matplotlib.axes._subplots.AxesSubplot at 0x7f418348f790>"
            ]
          },
          "metadata": {},
          "execution_count": 71
        },
        {
          "output_type": "display_data",
          "data": {
            "text/plain": [
              "<Figure size 432x288 with 1 Axes>"
            ],
            "image/png": "[encoded data removed]"
          },
          "metadata": {
            "needs_background": "light"
          }
        }
      ]
    },
    {
      "cell_type": "code",
      "source": [
        "len(High_accident_cities)/len(most_accident_cities)"
      ],
      "metadata": {
        "colab": {
          "base_uri": "https://localhost:8080/"
        },
        "id": "Hkz222zGrxOT",
        "outputId": "eb229ed5-fe52-473b-a03f-4b11bbdc8317"
      },
      "execution_count": 63,
      "outputs": [
        {
          "output_type": "execute_result",
          "data": {
            "text/plain": [
              "0.01866278572040065"
            ]
          },
          "metadata": {},
          "execution_count": 63
        }
      ]
    },
    {
      "cell_type": "code",
      "source": [
        "low_accident_cities = most_accident_cities[most_accident_cities<2000]\n",
        "low_accident_cities"
      ],
      "metadata": {
        "colab": {
          "base_uri": "https://localhost:8080/"
        },
        "id": "23kgEYsidpLw",
        "outputId": "f80cfc84-9e0f-409d-dab1-838270a8638e"
      },
      "execution_count": 51,
      "outputs": [
        {
          "output_type": "execute_result",
          "data": {
            "text/plain": [
              "Centreville                     1976\n",
              "Napa                            1973\n",
              "Lynwood                         1971\n",
              "Aurora                          1966\n",
              "Providence                      1965\n",
              "                                ... \n",
              "Ridgedale                          1\n",
              "Sekiu                              1\n",
              "Wooldridge                         1\n",
              "Bullock                            1\n",
              "American Fork-Pleasant Grove       1\n",
              "Name: City, Length: 11463, dtype: int64"
            ]
          },
          "metadata": {},
          "execution_count": 51
        }
      ]
    },
    {
      "cell_type": "code",
      "source": [
        "sns.histplot(low_accident_cities, log_scale = True)"
      ],
      "metadata": {
        "colab": {
          "base_uri": "https://localhost:8080/",
          "height": 300
        },
        "id": "53kTWjkgveFI",
        "outputId": "e02b63ac-777a-4f84-da55-4a8af0f87881"
      },
      "execution_count": 75,
      "outputs": [
        {
          "output_type": "execute_result",
          "data": {
            "text/plain": [
              "<matplotlib.axes._subplots.AxesSubplot at 0x7f4183067880>"
            ]
          },
          "metadata": {},
          "execution_count": 75
        },
        {
          "output_type": "display_data",
          "data": {
            "text/plain": [
              "<Figure size 432x288 with 1 Axes>"
            ],
            "image/png": "[encoded data removed]"
          },
          "metadata": {
            "needs_background": "light"
          }
        }
      ]
    },
    {
      "cell_type": "code",
      "source": [
        "most_accident_cities[most_accident_cities == 3]"
      ],
      "metadata": {
        "colab": {
          "base_uri": "https://localhost:8080/"
        },
        "id": "o2Tj8ue7yBEj",
        "outputId": "aadfaf65-1399-42cf-d4e7-33dde595cd09"
      },
      "execution_count": 78,
      "outputs": [
        {
          "output_type": "execute_result",
          "data": {
            "text/plain": [
              "Remus                  3\n",
              "Higden                 3\n",
              "Marcus                 3\n",
              "Knox City              3\n",
              "Agency                 3\n",
              "                      ..\n",
              "Newtonville            3\n",
              "Kinsman                3\n",
              "Red Boiling Springs    3\n",
              "Horatio                3\n",
              "Loda                   3\n",
              "Name: City, Length: 610, dtype: int64"
            ]
          },
          "metadata": {},
          "execution_count": 78
        }
      ]
    },
    {
      "cell_type": "code",
      "source": [],
      "metadata": {
        "id": "GJjnjFAtysI4"
      },
      "execution_count": null,
      "outputs": []
    },
    {
      "cell_type": "markdown",
      "source": [
        "###Start Time\n"
      ],
      "metadata": {
        "id": "k121Vfi0zEgx"
      }
    },
    {
      "cell_type": "code",
      "source": [
        "data['Start_Time'].head()\n",
        "# df.Start_Time.head()"
      ],
      "metadata": {
        "colab": {
          "base_uri": "https://localhost:8080/"
        },
        "id": "czv4E8KKysOA",
        "outputId": "bf53e45e-1ca6-481f-d9a8-c952a969dc93"
      },
      "execution_count": 82,
      "outputs": [
        {
          "output_type": "execute_result",
          "data": {
            "text/plain": [
              "0    2016-02-08 00:37:08\n",
              "1    2016-02-08 05:56:20\n",
              "2    2016-02-08 06:15:39\n",
              "3    2016-02-08 06:51:45\n",
              "4    2016-02-08 07:53:43\n",
              "Name: Start_Time, dtype: object"
            ]
          },
          "metadata": {},
          "execution_count": 82
        }
      ]
    },
    {
      "cell_type": "code",
      "source": [
        "data.Start_Time = pd.to_datetime(data.Start_Time)"
      ],
      "metadata": {
        "id": "gFqJOSC2ysRO"
      },
      "execution_count": 83,
      "outputs": []
    },
    {
      "cell_type": "code",
      "source": [
        "data.Start_Time"
      ],
      "metadata": {
        "colab": {
          "base_uri": "https://localhost:8080/"
        },
        "id": "IihC57D4ysT3",
        "outputId": "2b52a3e3-195e-4fb7-99a2-8351cb993a59"
      },
      "execution_count": 84,
      "outputs": [
        {
          "output_type": "execute_result",
          "data": {
            "text/plain": [
              "0         2016-02-08 00:37:08\n",
              "1         2016-02-08 05:56:20\n",
              "2         2016-02-08 06:15:39\n",
              "3         2016-02-08 06:51:45\n",
              "4         2016-02-08 07:53:43\n",
              "                  ...        \n",
              "2845337   2019-08-23 18:03:25\n",
              "2845338   2019-08-23 19:11:30\n",
              "2845339   2019-08-23 19:00:21\n",
              "2845340   2019-08-23 19:00:21\n",
              "2845341   2019-08-23 18:52:06\n",
              "Name: Start_Time, Length: 2845342, dtype: datetime64[ns]"
            ]
          },
          "metadata": {},
          "execution_count": 84
        }
      ]
    },
    {
      "cell_type": "code",
      "source": [
        "data.Start_Time.dt.hour"
      ],
      "metadata": {
        "colab": {
          "base_uri": "https://localhost:8080/"
        },
        "id": "wT58-0TSysZb",
        "outputId": "206a5fbd-7fcd-412a-89bc-b8698a1ed23f"
      },
      "execution_count": 86,
      "outputs": [
        {
          "output_type": "execute_result",
          "data": {
            "text/plain": [
              "0           0\n",
              "1           5\n",
              "2           6\n",
              "3           6\n",
              "4           7\n",
              "           ..\n",
              "2845337    18\n",
              "2845338    19\n",
              "2845339    19\n",
              "2845340    19\n",
              "2845341    18\n",
              "Name: Start_Time, Length: 2845342, dtype: int64"
            ]
          },
          "metadata": {},
          "execution_count": 86
        }
      ]
    },
    {
      "cell_type": "code",
      "source": [
        "sns.histplot(data.Start_Time.dt.hour, bins =24 )"
      ],
      "metadata": {
        "colab": {
          "base_uri": "https://localhost:8080/",
          "height": 297
        },
        "id": "wHbGcftsysfP",
        "outputId": "aff86ce3-846f-4e60-9c51-6b2fd33dc304"
      },
      "execution_count": 88,
      "outputs": [
        {
          "output_type": "execute_result",
          "data": {
            "text/plain": [
              "<matplotlib.axes._subplots.AxesSubplot at 0x7f4182991880>"
            ]
          },
          "metadata": {},
          "execution_count": 88
        },
        {
          "output_type": "display_data",
          "data": {
            "text/plain": [
              "<Figure size 432x288 with 1 Axes>"
            ],
            "image/png": "[encoded data removed]"
          },
          "metadata": {
            "needs_background": "light"
          }
        }
      ]
    },
    {
      "cell_type": "code",
      "source": [
        "sns.histplot(data.Start_Time.dt.dayofweek, bins = 7)"
      ],
      "metadata": {
        "colab": {
          "base_uri": "https://localhost:8080/",
          "height": 297
        },
        "id": "eovle0RKyshn",
        "outputId": "034485f8-3673-4579-819c-2e5e1319c120"
      },
      "execution_count": 89,
      "outputs": [
        {
          "output_type": "execute_result",
          "data": {
            "text/plain": [
              "<matplotlib.axes._subplots.AxesSubplot at 0x7f4182931be0>"
            ]
          },
          "metadata": {},
          "execution_count": 89
        },
        {
          "output_type": "display_data",
          "data": {
            "text/plain": [
              "<Figure size 432x288 with 1 Axes>"
            ],
            "image/png": "[encoded data removed]"
          },
          "metadata": {
            "needs_background": "light"
          }
        }
      ]
    },
    {
      "cell_type": "code",
      "source": [
        "sunday = data.Start_Time[data.Start_Time.dt.dayofweek == 6]"
      ],
      "metadata": {
        "id": "GdlJ9mg1yskJ"
      },
      "execution_count": 90,
      "outputs": []
    },
    {
      "cell_type": "code",
      "source": [
        "sns.histplot(sunday.dt.hour, bins = 24)"
      ],
      "metadata": {
        "colab": {
          "base_uri": "https://localhost:8080/",
          "height": 297
        },
        "id": "4Cfd2-XU54cg",
        "outputId": "034bad7a-af7e-40a1-aafd-8cd2b5c4b720"
      },
      "execution_count": 93,
      "outputs": [
        {
          "output_type": "execute_result",
          "data": {
            "text/plain": [
              "<matplotlib.axes._subplots.AxesSubplot at 0x7f41827c0580>"
            ]
          },
          "metadata": {},
          "execution_count": 93
        },
        {
          "output_type": "display_data",
          "data": {
            "text/plain": [
              "<Figure size 432x288 with 1 Axes>"
            ],
            "image/png": "[encoded data removed]"
          },
          "metadata": {
            "needs_background": "light"
          }
        }
      ]
    },
    {
      "cell_type": "code",
      "source": [
        "saturday = data.Start_Time[data.Start_Time.dt.dayofweek == 5]"
      ],
      "metadata": {
        "id": "A5EloGUX54R3"
      },
      "execution_count": 95,
      "outputs": []
    },
    {
      "cell_type": "code",
      "source": [
        "sns.histplot(saturday.dt.hour, bins = 24)"
      ],
      "metadata": {
        "colab": {
          "base_uri": "https://localhost:8080/",
          "height": 297
        },
        "id": "zaRGA4Kl8wtx",
        "outputId": "94ce6156-7f32-4c15-c8e9-c2940276f25a"
      },
      "execution_count": 120,
      "outputs": [
        {
          "output_type": "execute_result",
          "data": {
            "text/plain": [
              "<matplotlib.axes._subplots.AxesSubplot at 0x7f41821b85e0>"
            ]
          },
          "metadata": {},
          "execution_count": 120
        },
        {
          "output_type": "display_data",
          "data": {
            "text/plain": [
              "<Figure size 432x288 with 1 Axes>"
            ],
            "image/png": "[encoded data removed]"
          },
          "metadata": {
            "needs_background": "light"
          }
        }
      ]
    },
    {
      "cell_type": "code",
      "source": [
        "month = data.Start_Time[data.Start_Time.dt.month]"
      ],
      "metadata": {
        "id": "URZkaT7g8wlr"
      },
      "execution_count": 98,
      "outputs": []
    },
    {
      "cell_type": "code",
      "source": [
        "sns.histplot(data.Start_Time.dt.month, bins =12)"
      ],
      "metadata": {
        "colab": {
          "base_uri": "https://localhost:8080/",
          "height": 297
        },
        "id": "vAvmWdJV8waA",
        "outputId": "cdc672ac-b4ae-4cf8-9530-f72c2b087f46"
      },
      "execution_count": 107,
      "outputs": [
        {
          "output_type": "execute_result",
          "data": {
            "text/plain": [
              "<matplotlib.axes._subplots.AxesSubplot at 0x7f418247df40>"
            ]
          },
          "metadata": {},
          "execution_count": 107
        },
        {
          "output_type": "display_data",
          "data": {
            "text/plain": [
              "<Figure size 432x288 with 1 Axes>"
            ],
            "image/png": "[encoded data removed]"
          },
          "metadata": {
            "needs_background": "light"
          }
        }
      ]
    },
    {
      "cell_type": "code",
      "source": [
        "year = data.Start_Time[data.Start_Time.dt.year == 2019]"
      ],
      "metadata": {
        "id": "CfhOwujoA_J3"
      },
      "execution_count": 126,
      "outputs": []
    },
    {
      "cell_type": "code",
      "source": [
        "sns.histplot(year.dt.month, bins = 12)"
      ],
      "metadata": {
        "colab": {
          "base_uri": "https://localhost:8080/",
          "height": 297
        },
        "id": "LhsUFezsA_cr",
        "outputId": "ec424620-1654-4ac6-e4a1-3224f4a29d8f"
      },
      "execution_count": 127,
      "outputs": [
        {
          "output_type": "execute_result",
          "data": {
            "text/plain": [
              "<matplotlib.axes._subplots.AxesSubplot at 0x7f418203b2b0>"
            ]
          },
          "metadata": {},
          "execution_count": 127
        },
        {
          "output_type": "display_data",
          "data": {
            "text/plain": [
              "<Figure size 432x288 with 1 Axes>"
            ],
            "image/png": "[encoded data removed]"
          },
          "metadata": {
            "needs_background": "light"
          }
        }
      ]
    },
    {
      "cell_type": "code",
      "source": [
        "# map = folium.Map(location = [18.457175, 73.846806],zoom_start = 18)\n",
        "# folium.Marker([18.457175, 73.846806], popup = 'My Location',icon = folium.Icon(color = 'green')).add_to(map)"
      ],
      "metadata": {
        "colab": {
          "base_uri": "https://localhost:8080/"
        },
        "id": "vuhxd7fyBADG",
        "outputId": "cc8be8db-276c-45c4-dc54-66c069270601"
      },
      "execution_count": 147,
      "outputs": [
        {
          "output_type": "execute_result",
          "data": {
            "text/plain": [
              "<folium.map.Marker at 0x7f41818e66d0>"
            ]
          },
          "metadata": {},
          "execution_count": 147
        }
      ]
    },
    {
      "cell_type": "code",
      "source": [
        "sample_df = data.sample(int(0.001*len(data)))\n",
        "pairs = list(zip(list(sample_df.Start_Lat), list(sample_df.Start_Lng)))"
      ],
      "metadata": {
        "id": "v0lOUYIFPDKp"
      },
      "execution_count": 167,
      "outputs": []
    },
    {
      "cell_type": "markdown",
      "source": [],
      "metadata": {
        "id": "mAVC4KgOQB-3"
      }
    },
    {
      "cell_type": "code",
      "source": [
        "map = folium.Map()\n",
        "HeatMap(pairs).add_to(map)\n"
      ],
      "metadata": {
        "colab": {
          "base_uri": "https://localhost:8080/"
        },
        "id": "UkiYDl1-KkKu",
        "outputId": "94404c91-1c49-473e-ac27-2743f5244987"
      },
      "execution_count": 168,
      "outputs": [
        {
          "output_type": "execute_result",
          "data": {
            "text/plain": [
              "<folium.plugins.heat_map.HeatMap at 0x7f412506e670>"
            ]
          },
          "metadata": {},
          "execution_count": 168
        }
      ]
    },
    {
      "cell_type": "code",
      "source": [
        "map"
      ],
      "metadata": {
        "colab": {
          "base_uri": "https://localhost:8080/",
          "height": 685
        },
        "id": "Ssm0hv45KkRB",
        "outputId": "52105043-66c0-4515-9e0c-1ea545bc8ce3"
      },
      "execution_count": 169,
      "outputs": [
        {
          "output_type": "execute_result",
          "data": {
            "text/plain": [
              "<folium.folium.Map at 0x7f4124fd5b50>"
            ],
            "text/html": [
              "<div style=\"width:100%;\"><div style=\"position:relative;width:100%;height:0;padding-bottom:60%;\"><span style=\"color:#565656\">Make this Notebook Trusted to load map: File -> Trust Notebook</span><iframe srcdoc=\"&lt;!DOCTYPE html&gt;\n",
              "&lt;html&gt;\n",
              "&lt;head&gt;\n",
              "    \n",
              "    &lt;meta http-equiv=&quot;content-type&quot; content=&quot;text/html; charset=UTF-8&quot; /&gt;\n",
              "    \n",
              "        &lt;script&gt;\n",
              "            L_NO_TOUCH = false;\n",
              "            L_DISABLE_3D = false;\n",
              "        &lt;/script&gt;\n",
              "    \n",
              "    &lt;style&gt;html, body {width: 100%;height: 100%;margin: 0;padding: 0;}&lt;/style&gt;\n",
              "    &lt;style&gt;#map {position:absolute;top:0;bottom:0;right:0;left:0;}&lt;/style&gt;\n",
              "    &lt;script src=&quot;https://cdn.jsdelivr.net/npm/leaflet@1.6.0/dist/leaflet.js&quot;&gt;&lt;/script&gt;\n",
              "    &lt;script src=&quot;https://code.jquery.com/jquery-1.12.4.min.js&quot;&gt;&lt;/script&gt;\n",
              "    &lt;script src=&quot;https://maxcdn.bootstrapcdn.com/bootstrap/3.2.0/js/bootstrap.min.js&quot;&gt;&lt;/script&gt;\n",
              "    &lt;script src=&quot;https://cdnjs.cloudflare.com/ajax/libs/Leaflet.awesome-markers/2.0.2/leaflet.awesome-markers.js&quot;&gt;&lt;/script&gt;\n",
              "    &lt;link rel=&quot;stylesheet&quot; href=&quot;https://cdn.jsdelivr.net/npm/leaflet@1.6.0/dist/leaflet.css&quot;/&gt;\n",
              "    &lt;link rel=&quot;stylesheet&quot; href=&quot;https://maxcdn.bootstrapcdn.com/bootstrap/3.2.0/css/bootstrap.min.css&quot;/&gt;\n",
              "    &lt;link rel=&quot;stylesheet&quot; href=&quot;https://maxcdn.bootstrapcdn.com/bootstrap/3.2.0/css/bootstrap-theme.min.css&quot;/&gt;\n",
              "    &lt;link rel=&quot;stylesheet&quot; href=&quot;https://maxcdn.bootstrapcdn.com/font-awesome/4.6.3/css/font-awesome.min.css&quot;/&gt;\n",
              "    &lt;link rel=&quot;stylesheet&quot; href=&quot;https://cdnjs.cloudflare.com/ajax/libs/Leaflet.awesome-markers/2.0.2/leaflet.awesome-markers.css&quot;/&gt;\n",
              "    &lt;link rel=&quot;stylesheet&quot; href=&quot;https://cdn.jsdelivr.net/gh/python-visualization/folium/folium/templates/leaflet.awesome.rotate.min.css&quot;/&gt;\n",
              "    \n",
              "            &lt;meta name=&quot;viewport&quot; content=&quot;width=device-width,\n",
              "                initial-scale=1.0, maximum-scale=1.0, user-scalable=no&quot; /&gt;\n",
              "            &lt;style&gt;\n",
              "                #map_2d5d84ab7bb416dcc980405f842e2ec7 {\n",
              "                    position: relative;\n",
              "                    width: 100.0%;\n",
              "                    height: 100.0%;\n",
              "                    left: 0.0%;\n",
              "                    top: 0.0%;\n",
              "                }\n",
              "            &lt;/style&gt;\n",
              "        \n",
              "    &lt;script src=&quot;https://cdn.jsdelivr.net/gh/python-visualization/folium@master/folium/templates/leaflet_heat.min.js&quot;&gt;&lt;/script&gt;\n",
              "&lt;/head&gt;\n",
              "&lt;body&gt;\n",
              "    \n",
              "    \n",
              "            &lt;div class=&quot;folium-map&quot; id=&quot;map_2d5d84ab7bb416dcc980405f842e2ec7&quot; &gt;&lt;/div&gt;\n",
              "        \n",
              "&lt;/body&gt;\n",
              "&lt;script&gt;\n",
              "    \n",
              "    \n",
              "            var map_2d5d84ab7bb416dcc980405f842e2ec7 = L.map(\n",
              "                &quot;map_2d5d84ab7bb416dcc980405f842e2ec7&quot;,\n",
              "                {\n",
              "                    center: [0, 0],\n",
              "                    crs: L.CRS.EPSG3857,\n",
              "                    zoom: 1,\n",
              "                    zoomControl: true,\n",
              "                    preferCanvas: false,\n",
              "                }\n",
              "            );\n",
              "\n",
              "            \n",
              "\n",
              "        \n",
              "    \n",
              "            var tile_layer_7247b4b702b788f4c7c9faa31b040641 = L.tileLayer(\n",
              "                &quot;https://{s}.tile.openstreetmap.org/{z}/{x}/{y}.png&quot;,\n",
              "                {&quot;attribution&quot;: &quot;Data by \\u0026copy; \\u003ca href=\\&quot;http://openstreetmap.org\\&quot;\\u003eOpenStreetMap\\u003c/a\\u003e, under \\u003ca href=\\&quot;http://www.openstreetmap.org/copyright\\&quot;\\u003eODbL\\u003c/a\\u003e.&quot;, &quot;detectRetina&quot;: false, &quot;maxNativeZoom&quot;: 18, &quot;maxZoom&quot;: 18, &quot;minZoom&quot;: 0, &quot;noWrap&quot;: false, &quot;opacity&quot;: 1, &quot;subdomains&quot;: &quot;abc&quot;, &quot;tms&quot;: false}\n",
              "            ).addTo(map_2d5d84ab7bb416dcc980405f842e2ec7);\n",
              "        \n",
              "    \n",
              "            var heat_map_74d9d2f19bd4158c5e0d21c424831e52 = L.heatLayer(\n",
              "                [[32.412953, -93.757787], [37.789921, -122.394267], [34.92136, -81.8871], [38.78437, -77.17806999999998], [34.026506, -117.927325], [44.96611, -93.25818], [35.82431, -78.31458], [34.02421, -117.55849], [34.426715, -117.380183], [33.855940999999994, -118.00263], [37.550411, -122.311912], [34.610885, -79.701187], [32.456176, -80.761787], [41.98493, -88.08027], [35.197142, -80.792061], [32.726007, -96.919144], [42.94202, -73.450239], [27.96816500000001, -82.796373], [33.946606, -117.554362], [34.074848, -81.062924], [46.833545, -92.456592], [34.215663, -119.028586], [35.63932, -78.83338], [33.393148, -117.591594], [34.90345, -81.925402], [35.154286, -92.557765], [35.048953999999995, -85.303033], [34.029941, -118.44219], [34.785771000000004, -82.47773199999997], [40.393377, -78.43034399999998], [35.356372, -119.039372], [25.613906, -80.347975], [30.187808, -85.736814], [35.41293, -80.81098], [33.920562, -118.369426], [40.052087, -76.395838], [34.17374, -118.39114], [32.942012, -97.313218], [41.87128, -87.85967], [26.52211, -82.188828], [40.144972, -75.118235], [42.2251, -87.85032199999998], [44.00185, -123.0168], [40.449563, -111.912631], [33.28849, -111.8817], [32.29195, -95.257967], [38.031291, -75.54153000000002], [30.435856, -91.00756], [39.709557, -76.646085], [28.007669, -82.45293000000002], [38.560203, -121.47973600000002], [40.74692, -73.83475], [40.027152, -75.20904399999998], [36.304886, -81.389137], [37.96086, -122.053267], [32.70267, -96.82533], [34.072189, -117.921691], [40.72751, -74.020523], [34.022263, -117.990623], [39.124963, -104.86477], [39.400509, -76.55506], [28.196572, -82.546538], [28.602994, -81.313348], [37.960209000000006, -121.251887], [28.07219000000001, -80.705], [42.606332, -73.790364], [44.969927, -93.400558], [43.142796, -77.62605500000002], [30.507155, -87.161847], [28.42542700000001, -81.40479], [44.14558, -121.33127], [25.82849, -80.24109399999998], [38.831524, -77.433314], [32.755759999999995, -97.3191], [39.34115, -76.64754], [32.69855, -96.82363], [41.10967, -73.40308], [40.373943, -104.991076], [35.84414500000001, -78.680541], [30.505459, -87.267301], [36.825217, -76.327699], [38.83600300000001, -77.45144499999998], [38.220519, -81.448302], [43.191963, -124.342773], [34.22843, -117.288182], [33.11468, -117.097951], [40.00382000000001, -82.98443], [26.460024, -81.787258], [45.839115, -94.303023], [29.86343, -95.462931], [34.194549, -117.67809], [38.871806, -76.98214300000002], [37.594281, -77.531987], [44.970578, -93.298192], [42.413803, -73.540838], [37.50447, -122.48613600000002], [41.653978, -72.672347], [32.305583, -80.97294000000002], [45.50745, -122.66991000000002], [41.21144, -73.0897], [32.842092, -117.12032], [36.53542, -119.58232], [34.133995, -118.356066], [36.934223, -121.808866], [34.26306, -119.23222], [42.186171, -88.101619], [33.36393, -111.89405], [29.760418, -95.479709], [41.052206, -73.530839], [33.63817, -112.271864], [36.096188, -87.029088], [39.036084, -94.36193], [33.00836, -96.70798], [33.733862, -112.471997], [40.020048, -75.150568], [44.51606, -87.94846], [43.151208, -77.585666], [33.814532, -80.374661], [37.36256, -121.887828], [38.199792, -120.00376599999998], [35.373139, -118.967583], [41.92933, -87.69015], [38.608751, -121.382899], [45.279512, -93.00353], [35.252386, -118.925433], [33.520070000000004, -112.112227], [30.263396000000004, -97.744545], [40.730941, -74.111767], [40.551666, -75.62068000000002], [41.844893, -87.63250699999998], [37.422836, -120.765255], [40.76282, -73.58914], [43.011692, -83.659035], [34.266132, -117.292174], [37.584379, -122.328539], [33.93766, -118.2802], [30.1523, -90.79889], [39.786488, -75.469796], [36.752861, -119.701355], [39.06204, -94.49631], [25.890378, -80.184467], [43.02778, -88.07693], [28.435981, -81.406193], [34.027588, -118.452423], [42.462362, -83.106411], [34.13517, -117.311068], [29.76548, -95.45602], [37.098437, -122.098134], [33.981129, -117.973035], [44.86208, -93.458665], [40.718282, -73.40804200000002], [33.99653, -117.36475], [33.861290000000004, -117.87705], [38.525114, -121.403866], [39.92188, -105.106405], [43.61522100000001, -116.294138], [42.05849, -88.30967], [41.305514, -73.92939399999999], [28.05454000000001, -82.4261], [37.725217, -121.398179], [41.829229, -88.01995500000002], [28.311041, -82.505065], [46.561442, -112.431174], [39.198457, -76.632202], [28.83456, -80.841864], [36.02479, -115.12593], [34.073809999999995, -118.21929], [36.385401, -119.256548], [42.13901, -72.02903], [25.846986, -80.211189], [38.899538, -76.79485], [37.708346, -122.16371399999998], [44.945772, -93.078396], [34.064575, -118.000208], [25.704529, -80.366353], [37.977288, -122.29463], [45.98036, -118.38731], [44.293475, -124.111005], [38.59391, -121.44458], [29.68470300000001, -95.558464], [33.78337, -84.49543], [32.35799, -93.717713], [25.785758, -80.19369300000002], [37.436691, -85.74919], [33.446546999999995, -111.75344], [28.428421000000004, -81.40666999999998], [33.124606, -117.104196], [39.703184, -86.10763100000001], [34.15722, -118.4487], [30.42456, -91.124223], [33.3857, -111.93489], [27.95593, -82.46595], [40.67857, -75.34106], [40.023017, -76.309798], [37.981593, -121.249881], [25.884119, -80.340652], [34.070471999999995, -117.40278], [35.104304, -80.985603], [34.250406, -79.817337], [34.11925, -118.16043], [34.423922, -119.600905], [39.949507, -86.356228], [32.303470000000004, -90.16609], [40.661122, -112.28896], [28.81142, -81.337248], [38.770333, -77.537459], [43.772331, -92.628768], [41.89447, -112.56921], [34.778295, -92.190243], [26.709036, -80.086449], [28.55191, -81.4916], [34.03127, -118.39039], [41.239081, -95.902115], [40.524146, -74.345664], [43.00921, -83.812218], [37.702067, -122.393725], [44.032513, -92.558318], [38.882342, -77.012947], [36.201566, -121.115099], [44.78197, -93.46953], [39.537421, -77.606353], [38.91882, -76.932674], [25.928132, -80.293405], [34.566088, -118.686064], [43.052748, -76.149963], [37.55232, -77.46705], [33.88235, -117.457424], [28.45896, -80.82155], [37.41783, -122.21395], [39.768642, -104.99389], [33.959903000000004, -117.310627], [40.79771, -72.90711], [34.06113, -118.24764], [37.918184, -122.063266], [48.813961, -122.544776], [38.673386, -121.6713], [29.81395, -95.37916], [33.46079, -112.082384], [39.933312, -75.11169699999998], [35.250852, -80.844741], [45.700769, -122.657382], [41.42052, -81.7967], [33.773168, -118.034755], [41.516444, -74.07347], [29.9466, -95.41623], [39.371728, -94.370081], [36.829575, -119.916609], [33.92384000000001, -118.040638], [33.801093, -84.489661], [47.467118, -122.232307], [40.239003, -76.89415799999998], [33.650168, -117.86073799999998], [33.858346999999995, -118.300781], [45.530079, -122.614488], [41.744678, -72.66207299999998], [40.821255, -97.693033], [39.112682, -76.87702], [34.024728, -118.428216], [41.418056, -122.383333], [43.017364, -75.001848], [30.315413, -81.752962], [40.67375, -74.35001], [41.72135, -87.80804], [38.39571, -122.35684], [35.147956, -80.828976], [33.87321, -118.19905], [37.40819000000001, -122.00388], [37.116085, -121.933213], [39.668654, -78.451062], [42.95139, -78.75910999999998], [34.155567, -118.431243], [34.236713, -118.92058], [25.797006, -80.332411], [46.17569, -123.5208], [40.00719, -74.97319], [34.163267, -118.472417], [48.05917700000001, -114.074593], [41.332239, -73.818013], [34.91157800000001, -85.134054], [40.771437, -73.876099], [34.935418, -82.00745400000002], [28.308966, -80.761321], [40.869215, -74.330116], [35.93092100000001, -84.032108], [34.067536, -117.558186], [34.188768, -79.91530999999998], [33.3688, -80.240515], [42.92474, -78.89877], [38.00835, -78.513396], [38.660848, -121.350513], [33.67763, -84.39809], [39.292146, -120.683769], [34.14698, -118.37024], [45.148499, -93.276635], [25.946034, -80.286142], [35.275, -80.9696], [37.494436, -121.921798], [47.61849, -122.327882], [32.77993, -117.096866], [36.970241, -121.997074], [40.799379, -73.925399], [40.835132, -73.866582], [45.622395, -117.715089], [41.795264, -123.335684], [42.932954, -78.784081], [25.892058, -80.163016], [35.2368, -80.73594], [40.562417, -111.428153], [33.73111, -84.19431], [34.08723, -117.65951], [25.670941, -80.414505], [32.705794, -96.827348], [47.67699, -117.10465], [32.936507, -96.803925], [42.276194, -121.907797], [28.46419, -81.632199], [34.949386, -80.84650699999997], [42.498516, -82.917833], [33.560025, -117.673107], [41.737346, -72.739485], [34.01784, -84.32704], [25.828787, -80.269485], [39.868162, -76.699241], [35.65702800000001, -118.325865], [29.593612, -98.577807], [26.886354, -80.132651], [37.873163, -121.726809], [26.6803, -80.19499], [47.426457, -121.605818], [41.845288, -87.634433], [47.46727, -122.2284], [33.955448, -118.112935], [37.16022, -113.437547], [34.166504, -117.348578], [25.706036, -80.287536], [40.68746, -73.61777], [35.101619, -80.988201], [36.728901, -119.466154], [41.61103, -93.5787], [34.89053, -85.07042], [33.883185, -117.539647], [40.26267100000001, -76.814314], [36.08514, -79.75678], [40.851971, -73.954612], [38.032162, -78.027765], [38.708281, -121.486438], [39.924212, -105.110843], [34.071725, -118.101965], [34.746608, -80.427139], [38.558484, -121.382929], [44.035853, -95.119982], [33.528363, -113.115538], [36.221119, -86.726598], [39.091072, -77.523093], [25.893911, -80.32444], [33.583594, -117.180797], [30.415006, -86.60625], [36.947171, -76.40475699999998], [33.634440999999995, -78.991973], [38.874691, -76.975953], [33.957704, -118.23102], [39.213305, -94.641283], [29.995537, -90.115664], [33.717443, -117.968704], [37.292629, -121.809636], [32.677890999999995, -97.062789], [27.44645, -82.4898], [35.89043, -78.561738], [39.957014, -75.15545], [40.530679, -80.172151], [39.761517, -94.356786], [41.297398, -72.722555], [35.37518, -78.66209], [40.037366, -75.24713100000002], [33.50926, -112.065], [36.794794, -76.16869], [34.398354, -77.8734], [32.79347, -96.72633], [42.420209, -123.35773], [40.866501, -73.909296], [32.443399, -93.71981], [46.945556, -112.822154], [26.542968, -81.87133299999998], [30.369848, -97.687228], [39.344031, -78.31947199999998], [40.9307, -74.07061], [33.74463, -84.39923], [37.284873, -76.669763], [40.731886, -73.266373], [34.199783000000004, -118.396456], [33.778941, -117.88926399999998], [42.925131, -78.766376], [45.19765, -93.34058], [25.9421, -80.18881999999998], [42.1542, -88.133509], [38.445445, -82.006692], [25.947503, -80.353076], [37.802063, -122.27998999999998], [25.760594, -80.35231], [39.927066, -104.800931], [39.579309, -104.8761], [47.235375, -122.498281], [42.17014, -88.01897], [32.832439, -117.15547], [33.967013, -118.241062], [33.889571000000004, -84.262636], [34.0051, -117.39505], [34.068277, -117.400615], [43.982487, -121.621345], [37.77286, -122.40655], [36.739779, -119.77745], [41.714188, -73.782862], [41.84537, -87.63495], [42.9397, -83.554197], [41.547771, -77.12456999999998], [36.143935, -85.37223399999998], [28.026927, -82.160342], [29.749916, -81.347216], [37.70107, -121.81282], [45.151995, -122.879472], [35.79996, -78.69364], [44.913235, -93.144181], [33.743744, -117.833765], [36.780164, -119.784572], [25.687828, -80.365871], [32.84044, -117.22067], [40.037713, -75.012129], [34.442244, -82.723802], [25.771, -80.336548], [34.44042, -118.59981], [28.537187, -81.475866], [41.10687, -73.4137], [34.072215, -117.941756], [36.153348, -86.81809799999998], [32.748542, -117.24961100000002], [38.944004, -77.14786099999998], [34.15416, -83.20260999999998], [38.98141, -77.02651], [43.116627, -77.551707], [25.653355, -80.41561899999998], [38.122183, -122.313419], [34.06312, -117.413857], [40.84160900000001, -73.945483], [33.751233, -84.449898], [33.91137, -118.16769], [37.386619, -121.905526], [32.485928, -93.785339], [33.780731, -84.391209], [33.018617, -117.078833], [40.255435, -104.0984], [34.034718, -118.338308], [44.6916, -92.81493], [25.889471, -80.162038], [41.92695, -86.57030999999998], [30.34561, -91.11218], [37.243179, -121.68761], [38.799389, -77.548965], [41.101237, -73.986665], [41.97616, -88.02379], [32.367373, -86.31836899999998], [36.703556, -119.770623], [32.840339, -97.311226], [45.588797, -122.177432], [38.287471, -85.831385], [38.148189, -122.112554], [32.878820000000005, -96.51348], [36.678467, -121.706342], [39.314737, -120.203926], [33.881346, -117.617618], [25.717241, -80.328133], [32.908097, -96.899038], [38.636912, -121.062234], [39.28594, -76.58433000000002], [37.15708, -121.982093], [44.27292, -88.501016], [45.523108, -118.441042], [33.815425, -118.184967], [38.883383, -77.149661], [25.596524, -80.39896999999998], [30.41302, -91.066929], [42.361609, -87.931893], [37.24721, -76.68271], [38.226738, -76.518937], [35.728308, -120.19805], [33.87719, -118.14661], [35.90961400000001, -84.12893100000002], [36.043037, -86.606208], [39.416584, -76.629284], [45.36184, -122.67067], [39.56397, -104.905226], [40.70639, -73.43026], [38.886618, -121.21506399999998], [34.176578000000006, -118.307953], [38.411854, -121.933717], [42.001896, -91.666792], [37.410898, -122.075895], [27.916538, -82.767969], [34.72697, -82.3888], [26.083828, -80.168706], [34.145263, -117.284159], [30.308046, -97.953821], [32.980452, -96.928582], [42.408507, -88.004008], [38.290935, -122.034745], [27.86549, -82.79525], [38.614742, -121.512499], [40.313569, -74.490319], [40.818593, -73.961072], [30.044843, -89.95984399999998], [30.510005, -87.204062], [34.066069, -117.48443799999998], [33.842040000000004, -118.26618], [40.84005, -73.92905999999998], [25.898684, -80.305777], [40.758901, -74.11594699999998], [43.149133, -75.336155], [35.811261, -78.612302], [39.93154000000001, -74.95253000000002], [32.40352, -81.020168], [25.823117, -80.206385], [39.955796, -75.18073100000002], [26.058378, -80.16255799999998], [40.237393, -76.436322], [40.327053, -78.698745], [37.457082, -77.638059], [47.62312, -122.328725], [29.712786, -95.283637], [32.1352, -81.24001], [34.720546, -81.19019300000002], [41.725181, -84.965981], [37.85515, -122.02963], [34.012149, -81.79293], [42.27551, -83.16015], [37.63794, -121.295268], [44.96019, -93.20901], [39.06743, -77.47274], [35.14673, -89.93005], [27.441461, -82.459079], [31.936271, -106.412558], [30.40652, -91.060966], [44.428172, -121.875961], [36.919424, -121.687609], [40.89281, -74.076075], [32.401179, -90.145166], [37.945285, -122.48367], [40.775402, -74.0393], [38.473289, -121.39607], [33.930135, -117.879831], [40.128196, -75.023177], [33.927898, -118.24111200000002], [43.335214, -75.748068], [35.311017, -120.825078], [38.263825, -104.661737], [44.862316, -93.298267], [34.168971, -117.45682], [38.397639, -77.43549399999998], [40.728277, -73.92801800000002], [45.428642, -118.357823], [41.015403000000006, -73.638237], [25.684427, -80.442712], [34.169422, -118.385356], [40.071551, -75.34529599999998], [35.23252100000001, -80.835511], [40.70963, -73.820177], [34.081485, -117.728209], [33.70345, -84.16691], [33.522881, -117.162998], [34.103289000000004, -117.535976], [40.901273, -74.150837], [40.72584000000001, -112.03362], [45.22824, -118.012118], [38.524121, -121.334902], [44.953589, -93.185109], [41.23542, -73.0455], [25.892637, -80.162839], [33.829797, -84.360213], [32.765631, -117.153312], [30.182445, -97.687603], [28.5436, -81.41381], [40.738803, -74.061583], [29.78912, -95.33995], [26.211453, -81.776454], [34.066513, -117.509984], [33.548028, -112.050179], [42.22559, -83.68525], [25.954546, -80.344443], [34.07209, -117.911227], [34.088667, -118.475459], [37.945114, -122.51407], [39.328469, -77.021445], [26.186973, -80.151938], [38.666977, -122.820316], [39.83796, -75.153309], [32.69625, -117.09504], [41.56983, -87.41798], [45.51112, -122.43926], [33.853758, -117.924162], [44.864367, -93.431567], [42.3703, -87.85559], [35.946732, -78.536978], [41.312749, -75.753558], [45.437795, -122.765695], [35.896528, -78.61128599999998], [29.965327, -90.072172], [34.031715000000005, -118.417118], [26.710825, -80.138791], [30.259212, -92.015444], [40.635605, -74.235014], [39.492931, -121.449318], [29.520466, -98.505352], [37.54635800000001, -121.195978], [33.83789, -84.32300500000002], [28.540216, -81.286801], [38.66092, -121.357716], [45.26488, -123.84967], [44.859167, -93.327703], [32.935895, -97.251613], [25.484775, -80.46073], [33.45848, -80.57322099999998], [38.036685, -122.215998], [41.231893, -95.835295], [32.783608, -79.94421], [34.15067, -118.46824], [34.743127, -82.30863199999997], [32.322339, -111.045815], [42.57641, -113.9365], [33.837229, -117.287615], [47.73902800000001, -122.327556], [45.465105, -93.583184], [38.600453, -121.505066], [32.76736, -96.77737], [27.916549, -82.76888199999998], [37.74287, -121.56186], [28.473451, -81.396745], [36.04414000000001, -86.65718000000004], [32.861169, -96.902064], [29.962447, -90.113622], [28.525089, -81.376439], [32.22141, -110.8923], [42.980834, -85.63460500000002], [40.733152, -113.107692], [38.055553, -122.147725], [40.720206, -73.781653], [46.15890200000001, -123.902948], [30.260071000000003, -97.736168], [30.008255, -90.225449], [29.769688, -95.341154], [39.128226, -121.523628], [33.4475, -117.635153], [41.694413, -91.624764], [25.780076, -80.320835], [45.490659, -122.674709], [34.230214000000004, -117.291541], [26.60297000000001, -80.06883], [41.86968, -87.88883], [40.304676, -78.911689], [35.016506, -85.385795], [38.460969, -121.391816], [40.765075, -111.944868], [33.090605, -117.302377], [35.052404, -118.359376], [32.80318, -116.95636], [44.01902000000001, -121.31909], [32.938340999999994, -96.748408], [40.699485, -80.277263], [38.661469, -121.346276], [45.53514000000001, -122.583531], [35.912343, -78.781896], [42.691283, -73.84120300000002], [37.158862, -121.982585], [36.90664500000001, -76.256563], [32.924278, -96.783899], [33.849467, -84.30338499999998], [37.195732, -77.523676], [40.234339, -111.685041], [45.66026, -118.73906], [43.021426, -85.689044], [40.307925, -79.67524399999998], [35.779498, -78.636521], [34.15786, -118.379716], [35.31021, -80.715599], [37.866858, -122.039126], [25.901083, -80.210049], [44.79612, -95.48366], [44.922998, -93.274522], [42.059719, -88.04650699999998], [42.51274, -123.36344], [25.768661, -80.365911], [33.10333, -117.310665], [37.47052, -122.1582], [37.855261, -122.300397], [28.612596000000003, -81.459187], [44.14784, -123.583906], [26.948915000000003, -82.37446899999998], [43.644688, -123.52876299999998], [27.937817, -82.309164], [27.051045, -82.397456], [25.901833, -80.387027], [42.39696, -83.21805], [25.80803, -80.31314499999998], [40.725921, -111.995111], [38.953814, -119.946192], [29.777401, -95.874391], [41.16634000000001, -73.20882399999998], [26.678474, -81.808848], [26.30923300000001, -81.74354699999998], [39.169587, -77.53627900000002], [38.369349, -77.466614], [34.123694, -117.200948], [40.77133, -74.15678], [41.7661, -83.48109000000002], [35.295972, -118.947281], [30.360147, -97.692182], [35.549733, -78.301861], [34.0674, -117.575033], [34.17607, -81.32016], [28.67158, -81.556674], [39.09488, -94.48806], [47.460937, -122.623976], [39.074721, -121.55219], [29.58511, -95.38653], [25.796805, -80.327089], [37.200917, -119.687391], [38.486906, -122.404383], [25.91383900000001, -80.16448299999998], [30.310802, -81.64889699999998], [40.75221, -73.7431], [32.257675, -110.961566], [46.917129, -94.516813], [40.83042, -73.93220500000002], [33.999013, -118.17584], [37.31647, -76.51344300000002], [27.79221, -82.63162], [38.358625, -121.841522], [28.436916, -81.348773], [33.78948, -117.887874], [38.368526, -122.712355], [33.84672, -117.252391], [25.602071, -80.351889], [33.726606, -117.835057], [34.777394, -92.257934], [28.393164, -81.424942], [28.228406, -80.676443], [40.844731, -73.92514399999997], [47.42997, -122.27283], [44.033352, -123.031332], [38.21366, -85.66686999999997], [34.038791, -118.557171], [47.892157, -92.775327], [38.744718, -85.042159], [40.78463, -73.52877], [25.98085, -80.165627], [42.42793, -83.18353], [35.00553, -89.88696999999998], [42.40631, -82.95625], [41.47574, -81.88251], [34.024733000000005, -117.735811], [33.628359, -117.720071], [29.784964, -95.106623], [41.71062, -72.64635], [29.32282, -98.616912], [40.77248, -74.15592], [35.77696599999999, -78.640233], [33.77076, -117.86906299999998], [33.97465, -118.2806], [32.718119, -117.109665], [34.02459, -117.7403], [35.399313, -82.50858000000002], [39.356449, -123.509341], [35.881599, -119.27947], [32.778549, -117.104364], [30.105290000000004, -81.48315799999997], [35.31162, -80.70998], [39.587461, -120.367733], [41.283973, -73.110854], [25.769442, -80.33892900000002], [33.75456, -118.01645], [33.907928000000005, -81.224864], [39.95068, -86.012273], [26.632994, -80.068219], [41.796916, -87.64523], [45.65596, -110.94716], [40.153966, -75.113051], [40.394824, -76.485704], [33.743341, -117.109097], [36.759062, -76.334938], [25.810357, -80.340694], [25.824522, -80.369827], [30.444373, -91.024476], [41.981104, -88.068511], [34.177856, -79.46723100000001], [40.00979, -76.12862], [45.500668, -92.816472], [39.992831, -75.60992399999998], [33.855349, -117.78766], [30.443347, -91.186508], [35.441297, -119.078632], [35.80268, -78.59364000000002], [40.740535, -76.200449], [28.491466, -81.396739], [37.40430900000001, -120.855228], [44.76576, -93.57836], [38.882355, -77.018217], [39.271391, -104.897235], [36.903043, -76.23957], [34.792694, -80.048149], [32.403429, -109.661751], [42.255231, -83.68403], [33.742684999999994, -117.11978700000002], [34.50048, -118.22806], [25.265518, -80.439802], [34.270144, -117.290178], [41.1203, -112.01931], [33.94506, -118.094733], [28.311041, -82.505065], [41.312381, -72.913073], [45.54233, -122.49575], [39.044713, -94.499951], [33.971339, -118.024368], [29.770025, -95.218346], [32.732141, -117.079657], [33.851119, -117.879706], [39.419273, -76.615931], [40.73929, -111.90454], [28.207063, -82.666229], [36.87839, -121.56504], [33.522512, -113.082735], [35.203762, -80.72223699999998], [39.64845, -74.87168], [33.889065, -117.511842], [45.37542, -122.75555], [40.01974000000001, -75.286056], [35.080535999999995, -80.73212099999998], [34.230103, -118.396052], [33.421802, -117.15395], [33.993558, -118.069315], [41.74991, -88.064], [36.155266, -86.799656], [32.820798, -117.14739], [40.039647, -76.451169], [38.570689, -121.40991], [27.4851, -80.525504], [44.03435, -92.55576], [27.143858, -80.373366], [27.990655, -82.73174], [32.28526, -110.93282], [41.79963, -88.05669], [35.359599, -119.039362], [33.717201, -85.02067199999998], [40.71768400000001, -111.837809], [33.46102, -112.29573], [38.411917, -78.89259799999998], [37.701366, -121.877411], [25.92757000000001, -80.21518499999998], [38.901761, -77.077084], [33.133520000000004, -117.12489], [25.69138, -80.38895], [34.147968, -118.074859], [38.317022, -78.128062], [33.625572, -84.400036], [33.968931, -80.33995999999998], [39.154382, -119.743477], [28.615237, -81.738281], [36.62828, -82.12625], [38.90273, -77.790134], [30.46903, -86.56249], [42.55497, -82.923121], [41.59325, -93.71946], [32.74841, -97.30449], [39.283208, -76.73395699999998], [32.755962, -117.234967], [25.845667, -80.250772], [38.531376, -121.45363], [26.12236, -80.14326], [32.893513, -80.01844], [36.161233, -86.774743], [45.822424, -119.882501], [40.7366, -73.84489], [38.193057, -81.50058299999998], [32.983652, -117.083252], [37.65456, -122.09994], [36.699176, -81.969822], [40.679463, -73.69682900000002], [37.44746, -122.1217], [27.83915, -82.701062], [25.748405, -80.35168900000002], [37.552525, -77.47882800000002], [33.63067, -112.11648], [40.731886, -73.266373], [40.39862700000001, -79.422172], [45.50678, -122.683758], [35.064285, -81.77328299999998], [42.312764, -87.916475], [45.525344, -122.665281], [42.359489, -83.07628000000003], [45.06446, -93.21412], [33.978751, -118.077705], [32.652805, -117.104766], [35.30915, -80.71876], [41.6321, -72.87401], [41.36494, -72.07455], [42.55636, -88.97523000000002], [28.515644, -81.289813], [40.181998, -75.09069699999998], [32.79919, -117.21107], [29.971602, -90.056882], [33.88644, -118.35526000000002], [38.93493, -94.42716], [40.811552, -73.934779], [46.121203, -123.241584], [39.89403, -74.917622], [41.060786, -75.744945], [35.141427, -118.46761200000002], [42.807, -121.8351], [38.7601, -77.18366999999998], [39.11184, -94.56489], [31.195995, -83.767482], [33.98466, -84.54209], [37.9585, -121.25789], [32.678026, -97.387162], [33.502105, -111.932548], [42.912728, -85.637247], [33.87625, -117.66029], [39.204369, -120.827225], [33.904309999999995, -117.27799], [47.77188, -122.32031], [28.575478000000004, -81.44779399999999], [32.680259, -96.191364], [43.958391, -123.010622], [30.239024, -97.689253], [38.63338, -77.27192], [28.530717, -81.202297], [37.891181, -122.150167], [40.75122, -74.184812], [34.06434, -118.2501], [37.495957, -77.60526800000002], [40.750316, -76.958061], [34.284907000000004, -118.864549], [41.23555, -77.045419], [38.891854, -76.956056], [26.572953, -80.1731], [36.105107, -86.742236], [34.032007, -117.327128], [33.950575, -87.61020500000002], [34.071803, -118.122867], [32.699098, -117.129491], [36.12673, -86.71101], [36.944543, -119.676228], [37.90364, -78.69281], [35.410451, -119.021083], [41.808699, -71.404752], [40.17953, -75.13005], [33.584114, -117.671852], [26.530691, -81.871353], [27.146733, -82.462445], [32.673036, -83.061041], [46.276104, -106.19328], [43.93523, -92.00871], [44.658898, -93.670302], [39.77519, -105.15384], [39.011195, -94.784899], [28.450365, -81.399457], [34.120783, -117.877524], [44.96801, -122.990309], [41.95467, -88.05100999999998], [38.421081, -121.486161], [36.121725, -86.758042], [41.401624, -73.46649599999998], [45.511668, -122.667192], [37.157197, -121.982129], [39.94305, -104.9973], [34.081268, -80.93875899999998], [28.449891, -81.482946], [39.922386, -121.649872], [43.833855, -123.045435], [36.796377, -81.678403], [33.944383, -80.903818], [39.769857, -84.175919], [36.145687, -86.74121], [29.928227000000003, -90.03825], [39.89272, -83.03796], [33.915397, -117.442487], [35.26312, -80.87968000000002], [39.4164, -76.63013000000002], [43.196772, -77.551771], [27.942963, -82.544907], [35.412508, -119.090072], [30.372022, -81.761189], [41.81413, -71.3671], [32.917133, -96.744124], [34.80377, -82.51171], [39.22645, -76.51604], [36.164428, -86.763075], [47.77759, -122.318265], [34.030719, -117.588096], [28.547284, -81.42387099999998], [40.942308, -122.435995], [33.897822, -117.275129], [33.685286, -117.74621100000002], [32.831331, -96.705484], [39.411596, -76.41277600000002], [39.162968, -94.495865], [35.028766999999995, -85.351674], [29.950547, -90.085416], [30.06519, -81.49729], [40.60227, -74.06437], [37.366436, -121.901034], [37.637778, -121.295278], [29.908139, -90.01817], [39.17267, -94.55159], [34.798386, -92.378601], [33.928608000000004, -118.308989], [42.93133, -85.67605], [33.678452, -117.84698], [39.48916, -76.66634], [33.847833, -117.855511], [32.909081, -96.769024], [43.956355, -92.238961], [33.851923, -118.205069], [38.957521, -77.19266999999998], [37.799159, -122.277241], [40.70685, -74.25463], [34.989085, -80.982421], [46.17534000000001, -123.86931], [37.690607, -122.131927], [39.26086, -77.46458], [39.33083, -76.56194], [43.81415, -72.52241], [33.524093, -111.925811], [38.79531, -77.170876], [36.202922, -119.470773], [33.6728, -111.98856], [26.088868, -80.201515], [35.031299, -82.41931899999999], [39.827367, -86.256209], [29.746373, -95.53478], [40.039865, -76.302931], [34.91448, -82.3203], [29.872891, -95.409731], [29.984916, -90.070212], [34.021157, -118.477548], [37.307985, -79.393283], [38.005685, -122.036365], [40.793868, -77.735636], [38.348258, -77.483246], [33.73285, -84.39194], [25.945626, -80.1769], [36.179662, -86.77413299999998], [33.867989, -84.18075400000002], [33.492465, -112.012019], [34.002203, -117.834068], [39.828266, -75.69557900000002], [38.375234000000006, -122.792569], [41.24901, -78.75764000000002], [38.56879, -121.33085], [30.2156, -93.38108], [33.826558, -118.207575], [38.524874, -121.474085], [43.531294, -119.31103600000002], [30.688876, -87.053728], [38.309233, -77.64070500000003], [47.917455, -92.8125], [38.45553, -81.92928], [34.262819, -118.441029], [36.975463, -121.889308], [40.52179, -111.89098], [37.371832, -120.678183], [32.77349, -96.795742], [45.52743, -122.60936], [28.601869, -81.404412], [34.6431, -86.838308], [34.044284999999995, -118.161948], [25.846986, -80.211189], [40.719334, -112.143031], [34.064366, -118.006176], [41.71178, -72.64288], [32.18715, -110.956236], [29.988158, -90.068376], [40.94478, -72.87957], [25.747981, -80.32264], [33.948991, -117.386026], [42.4503, -87.82545999999998], [38.346716, -104.619873], [36.766358, -76.60184], [38.787145, -90.533167], [37.609398, -120.979967], [33.979939, -117.908155], [33.623002, -79.00330100000002], [41.62043, -87.57885999999998], [37.51028, -121.97122], [33.98819, -118.061471], [33.552104, -117.717774], [28.577684, -81.474816], [36.033617, -95.88652], [35.527907, -94.04152], [33.70644, -117.779], [42.36385, -87.937386], [33.952569, -117.30349], [38.554728, -121.687321], [31.323472, -89.362044], [44.951643, -93.150814], [35.225993, -80.82815500000002], [37.13591, -77.52818], [25.882907, -80.33953299999997], [39.418741, -77.48083199999998], [41.57783, -87.57139000000002], [47.70342, -122.32944], [28.446263, -81.402039], [33.774444, -118.03134], [42.334474, -79.590743], [40.547696, -111.92915], [29.659596, -82.42147299999998], [33.566469, -81.892393], [42.15057, -88.01406999999998], [34.170158, -81.246339], [25.924564, -80.295632], [33.88872, -118.03717], [38.739951, -120.720038], [34.39266, -118.955233], [26.34587, -80.118], [40.807417, -74.182466], [44.996895, -93.400773], [39.172332, -94.553149], [29.809452, -95.373699], [45.21851, -93.59639], [43.30306, -122.95412], [39.375771, -76.724096], [37.78343, -122.396282], [39.708205, -86.26427199999998], [39.777617, -104.888405], [34.005926, -118.413691], [44.870169, -93.39663], [40.77066, -112.142763], [45.19952, -122.83317], [38.01272, -121.87214], [25.86293, -80.32267], [38.589815, -121.730324], [43.647507, -123.64558], [35.15278, -80.84868], [45.60188, -121.1447], [35.561035, -78.210888], [30.198191, -81.739306], [36.060777, -95.97274], [36.144201, -86.69234], [45.566021, -117.519947], [33.987598, -118.368065], [47.15437, -122.3572], [40.425932, -103.221081], [25.927232, -80.15359699999998], [36.219889, -86.728453], [35.571531, -82.962323], [42.94761, -71.45908], [34.443405, -82.832436], [38.618009, -76.970329], [41.496702, -95.061038], [42.632354, -78.994005], [38.288716, -77.50862], [45.700774, -121.627003], [39.17777, -84.48708], [39.711112, -104.998858], [38.236852, -122.263409], [27.29888, -82.461685], [30.326288, -97.67454], [34.474872, -93.114677], [36.144156, -86.73865699999998], [41.41146, -81.61533], [38.499675, -77.38046899999998], [39.800924, -86.00405500000002], [29.856002, -95.528607], [34.064344, -117.296594], [32.732588, -117.078574], [41.14055, -112.02558], [32.764395, -117.205334], [38.976901, -120.897973], [35.54155499999999, -82.756491], [34.157117, -118.448678], [34.11853, -117.84169], [40.846363, -73.931287], [34.130615, -117.927592], [37.68141, -77.66574], [35.154576, -119.456362], [25.963003, -80.157545], [31.001172, -83.19959200000002], [43.137889, -77.634637], [38.55031, -121.47382], [34.24881, -118.42692], [40.640476, -74.20525400000002], [37.660328, -120.875326], [44.85987, -93.364723], [28.254843, -81.48054499999998], [34.200171000000005, -117.859407], [36.841829, -76.221187], [39.027596, -94.24916], [35.035270000000004, -85.31945999999998], [40.7147, -74.20486], [38.798478, -121.882331], [37.764645, -121.410691], [29.92715, -95.55086], [33.62718, -117.425934], [39.214679, -112.156645], [39.778414, -86.141277], [37.739366, -81.20772099999998], [35.964156, -78.51796], [34.832704, -82.432367], [33.824361, -117.502866], [33.77875, -117.88096000000002], [40.52822000000001, -74.2752], [33.780869, -117.748278], [26.328982, -81.805612], [34.311751, -117.476345], [38.37411, -85.75698], [32.690666, -117.118368], [37.42312, -122.09522], [38.83969, -104.746187], [28.493325, -81.396765], [38.717766, -120.883993], [34.061229, -81.135913], [25.630572, -80.479876], [33.861964, -118.317875], [37.825637, -122.479275], [35.052228, -80.84966700000003], [33.986349, -117.346391], [42.462649, -82.9225], [34.134512, -117.664004], [40.904406, -74.031683], [41.1581, -81.78581], [35.397519, -118.989215], [45.07458, -93.28688], [39.412899, -76.616], [40.658492, -112.042067], [39.86883, -75.30744], [39.20086, -77.266277], [42.37891, -87.9408], [39.01616, -77.01935999999998], [38.721563, -120.83308], [35.798606, -78.564729], [39.60702, -75.85381], [25.881168, -80.242938], [43.604996, -116.590198], [34.0853, -118.21788], [45.574513, -92.992172], [27.792182, -82.332426], [45.521162, -122.813134], [34.134749, -117.62437], [32.79908, -97.05536], [38.535877, -121.740425], [42.2976, -85.21883000000003], [42.229224, -122.743731], [37.97468, -78.20773], [38.815414, -77.221159], [38.857494, -76.993764], [36.216213, -86.77528000000002], [35.02843, -81.86913], [40.861705, -73.974584], [33.051177, -80.099367], [27.920392, -82.78763199999999], [25.769675, -80.32730600000002], [41.750031, -72.714225], [35.029604, -85.180014], [45.002089, -122.97735], [43.099954, -83.712141], [33.642578, -78.94686899999998], [25.898077, -80.23981500000002], [34.146799, -118.226109], [42.934754, -85.66704200000002], [34.066720000000004, -117.246093], [32.886037, -96.741661], [33.73259, -84.39195], [44.831788, -93.236717], [28.633274, -81.457042], [40.588678, -80.099183], [39.423505, -94.342142], [37.554292, -77.48382], [32.735165, -117.174554], [27.548426, -82.425414], [35.81789000000001, -78.313468], [36.154055, -86.85829], [32.870133, -96.672118], [34.143524, -118.471401], [39.246243, -121.026431], [45.073011, -122.685804], [36.676574, -121.641212], [41.23655, -81.49365999999998], [37.844212, -81.232835], [36.75876, -76.35023000000002], [29.741253000000004, -95.454621], [39.531351, -120.301269], [38.507026, -121.138955], [33.474511, -117.138706], [35.012954, -85.228305], [34.009896999999995, -118.422308], [40.92478300000001, -73.80780899999998], [33.873778, -117.690756], [43.993554, -92.240132], [29.73213, -95.38419], [34.075216999999995, -118.274206], [40.66506, -77.60123], [40.71068, -74.00272], [35.86533499999999, -78.624267], [37.552525, -77.47882800000002], [39.644761, -110.859949], [33.457415999999995, -112.203412], [35.797885, -78.577725], [45.08897, -123.97016], [42.974208, -83.68427700000002], [34.565635, -80.49958000000002], [39.916621, -105.094462], [36.98406, -121.93346], [36.845787, -76.24306700000002], [33.583690000000004, -84.3727], [32.71923, -117.147663], [25.899849, -80.176793], [29.418631, -98.502194], [35.11785, -111.0963], [42.04116, -87.86941], [36.935658, -121.776535], [37.989932, -122.328677], [25.881633, -80.24296700000002], [40.76469, -73.95254], [42.962665, -78.920564], [40.588587, -78.755092], [40.038373, -76.35511899999999], [29.96430100000001, -90.007798], [37.431702, -120.788091], [48.15008, -114.110248], [38.46228, -121.44649], [37.56635, -122.04168], [40.756775, -113.025226], [37.502589, -77.641447], [35.586161, -78.574218], [35.251012, -118.916606], [39.753463, -84.228575], [25.733243, -80.333047], [37.340014, -121.851126], [40.779587, -73.57100799999998], [34.039364, -81.09362], [35.83872, -78.675063], [44.063748, -123.101044], [28.423899, -81.404781], [32.646957, -93.896434], [38.387095, -77.995544], [38.991152, -122.060734], [37.31504, -121.90908], [38.290935, -122.034745], [33.846940999999994, -117.96216499999998], [28.260728000000004, -81.48618], [33.46195, -112.14625], [39.763759, -105.002356], [25.69279, -80.38197], [37.371448, -121.90181], [25.577465, -80.370795], [28.049393, -82.454785], [34.79313, -85.00084], [40.013845, -82.993669], [38.808529, -77.52251700000002], [29.81036, -95.37394], [34.297429, -118.417113], [30.43351, -91.024433], [39.12763, -84.57391], [28.545001, -81.512814], [38.763096, -77.28289699999998], [36.841717, -76.164339], [33.81609, -84.36333], [26.230382, -80.126426], [40.17617, -111.64645], [32.883919, -117.228198], [39.133577, -121.49042], [32.67653, -97.04817], [25.928453, -80.189477], [33.663269, -117.794947], [39.849405, -75.53756], [36.038643, -79.011687], [40.883, -74.12823], [35.189775, -80.91932299999998], [44.906177, -122.958213], [38.492667, -121.442232], [35.42653, -80.91781], [37.748826, -121.476518], [43.696088, -124.009498], [26.708001, -80.077292], [41.22655, -95.95294], [38.576785, -77.326809], [32.923934, -96.769054], [45.053483, -122.970432], [39.77511, -104.859631], [43.301119, -75.622927], [30.428937, -97.72693], [32.92455, -96.78246], [34.660724, -80.710678], [45.99351400000001, -95.974097], [41.100223, -111.743043], [34.808078, -92.468496], [33.993598, -118.17638], [33.894816, -84.479889], [39.92713, -86.26873], [33.462649, -112.171257], [25.765905, -80.336378], [44.07439, -121.30256], [27.985583, -80.621085], [26.039775, -80.21391700000002], [31.190711, -84.517811], [32.781624, -96.714947], [37.077765, -78.448844], [39.121101, -121.548872], [40.744954, -112.645128], [43.09233, -88.05824], [38.707505, -89.96321], [28.498084, -81.28534599999998], [47.753081, -122.330092], [40.84455, -73.90271], [37.62127, -122.07718], [34.057326, -117.404269], [38.5997, -121.50468], [35.65928800000001, -120.60262], [42.33528, -83.21589], [34.309433, -119.122383], [33.7976, -84.3934], [47.59039, -122.25024], [39.047067, -76.937662], [26.572175, -81.86697], [43.83162100000001, -120.668453], [40.748214, -73.7598], [38.433043, -111.733646], [35.38373, -96.66605], [39.122357, -76.866438], [38.390544, -75.107917], [37.70141, -121.89423], [38.1558, -90.35631], [28.450781, -81.477807], [35.36398900000001, -85.962203], [35.190814, -80.878637], [38.751568, -121.265994], [48.240387, -114.325109], [40.556064, -75.615257], [40.906572, -74.134744], [29.649642, -81.645465], [33.458906, -117.655867], [43.145253, -77.599867], [40.33748, -84.645087], [42.444565, -73.6866], [39.875725, -75.052596], [33.93828, -118.36855], [29.609905, -98.266354], [37.84942, -122.48946], [39.653338, -77.75881600000002], [26.36784, -80.17151], [32.960411, -96.915131], [37.52942, -77.48538], [36.14055, -95.94035], [37.008489, -81.101286], [41.569827, -87.419232], [40.491235, -112.333545], [25.76339, -80.336261], [33.305191, -111.979863], [32.940088, -117.11007], [34.679334000000004, -92.319418], [44.77915, -93.335147], [33.948196, -117.301295], [34.030212, -117.678138], [33.416561, -111.89148], [34.754723, -79.45648299999998], [41.037064, -74.112477], [39.93322, -122.034703], [26.045011, -80.162547], [44.858046, -93.333208], [33.86865, -118.195434], [40.07415, -75.305999], [40.718413, -73.58064], [33.505672, -112.112699], [43.693559, -124.069427], [38.865599, -77.054386], [33.479859999999995, -111.71298], [34.21951, -118.24131], [42.944595, -83.652751], [31.835685, -106.321102], [33.462043, -112.13931200000002], [29.947296, -81.679367], [33.800601, -79.010922], [35.981501, -79.888211], [36.624016, -80.731844], [40.75021, -111.601734], [33.953729, -81.092566], [33.60686, -117.69429], [33.977551, -118.256415], [33.46213, -112.05922], [43.147, -88.05467], [44.560061, -123.25616], [37.88265, -122.07699], [29.774627, -95.314289], [29.69565, -95.30007], [39.238432, -76.705781], [37.38083, -113.24793], [46.827575, -95.871589], [30.04651, -89.98995], [25.925341, -80.153943], [35.101644, -80.880783], [34.051361, -118.213912], [34.611739, -118.271124], [38.632528, -121.213654], [42.969111, -85.590609], [33.468665, -84.33596800000002], [34.627908000000005, -77.935005], [40.976749, -121.555955], [30.473756, -83.88078900000002], [33.999682, -83.973037], [45.47039, -122.68557], [26.010778, -80.175476], [39.70265, -77.12844], [43.060746, -83.74858], [40.71651, -73.82764], [25.57476, -80.39873], [30.252115000000003, -97.802299], [34.08523, -81.16008000000002], [43.826104, -120.648304], [39.16324, -84.43429], [33.175947, -117.213178], [38.50037800000001, -121.433221], [36.988032, -121.984792], [33.960016, -118.283889], [40.679398, -73.750322], [34.156978, -118.448332], [39.873806, -84.368177], [30.2364, -97.82258], [35.016627, -82.01234000000002], [37.699279, -121.0709], [28.823859, -81.330671], [35.172214000000004, -80.853367], [33.46232, -112.18629], [33.38572, -111.86338], [33.941238, -117.270551], [27.99649, -82.54684], [33.5462, -86.58588], [29.716088, -95.538889], [39.79388, -104.78735], [35.23925999999999, -80.96755], [44.866994, -93.634747], [30.120059, -81.512621], [36.723014, -77.53035600000003], [35.252476, -118.896263], [33.924143, -118.023235], [33.166791, -96.642104], [29.685503000000004, -95.551436], [47.55602, -122.080078], [33.460353000000005, -117.659465], [40.007811, -75.201205], [25.760893, -80.39527199999998], [42.153312, -88.038076], [29.689616, -95.570701], [34.055439, -118.214231], [40.72573, -112.018765], [30.388899, -83.855441], [38.612641, -121.538368], [44.84048, -93.24377], [32.899037, -96.462978], [42.271352, -84.42993299999998], [35.30916, -80.71875], [34.01784, -117.5308], [40.555683, -75.435929], [40.72573, -112.018765], [38.59517, -121.4443], [40.72158, -112.04793], [39.61640300000001, -104.897202], [38.40478, -121.38581], [43.202768, -77.462266], [37.604142, -122.064933], [34.977368, -86.569362], [40.253659000000006, -76.812072], [43.73875, -83.97629], [42.16453, -123.502159], [25.567011, -80.372224], [25.661693, -80.325936], [33.338454, -87.014088], [33.482794, -84.217511], [30.413326, -91.140923], [29.732651, -95.539382], [39.861212, -76.449773], [33.867246, -117.746139], [37.58841, -122.35857], [29.854419, -95.473219], [29.688443, -95.579629], [33.49855, -112.11305], [40.829081, -73.931523], [40.785095, -124.083167], [34.044909999999994, -117.31123999999998], [33.463946, -80.496476], [36.326626, -119.279025], [28.565678, -81.355181], [36.699174, -81.96982], [34.15439, -118.38286], [34.087567, -118.152031], [38.742479, -76.87908], [44.818619, -95.5871], [47.77744000000001, -122.34618], [38.664453, -86.93300699999998], [30.493862, -87.32547199999998], [41.87162, -87.75895], [34.03154, -118.41421], [37.70141, -121.91545], [34.151665, -118.132258], [46.89915, -122.90866], [34.477764, -120.228522], [37.077447, -76.447061], [35.006657000000004, -118.95156], [41.0954, -81.58592], [35.17235, -103.62325], [36.581944, -121.899722], [34.023435, -117.750504], [34.083822, -80.882322], [33.49325, -112.32376], [28.56681, -81.206435], [39.315416, -75.614798], [37.800543, -122.187423], [34.123492, -117.302573], [38.19834, -122.16115], [30.080091, -97.693284], [34.07417, -80.896188], [34.121976000000004, -118.340241], [25.68887, -80.35042800000002], [25.946946, -80.27821999999998], [40.010246, -76.188064], [33.870453000000005, -118.056019], [40.697059, -73.726923], [39.965121, -76.709999], [45.00157700000001, -118.98696499999998], [40.253294, -74.08075600000002], [38.87554, -77.280396], [34.06673, -117.24369], [41.77304, -87.62557], [33.92564, -118.32172], [42.924981, -71.37685], [33.072601, -117.070011], [44.006459, -92.24915], [36.57041, -121.7619], [39.889651, -75.233548], [41.06558, -73.86478000000002], [33.971825, -118.3778], [26.254284, -80.136528], [33.932851, -118.368276], [34.990637, -85.286837], [26.271368, -80.168899], [28.552325, -81.364446], [34.048559999999995, -117.81225], [33.654643, -112.082816], [34.054267, -118.004184], [30.42372, -91.147232], [34.169084000000005, -79.72290500000003], [41.95438, -87.73136], [37.705239, -122.10841200000002], [26.560441, -81.79397900000002], [25.73417, -80.302918], [36.215236, -119.329196], [34.513485, -117.412604], [27.132315, -82.45435400000002], [45.549756, -122.678779], [37.720602, -121.65572], [32.89343, -96.48167], [35.383633, -119.144608], [30.404278, -91.037748], [45.30924, -122.5686], [33.167155, -112.649828], [25.682268, -80.446086], [40.74347, -73.61282], [30.142428, -82.03626700000002], [29.67941, -95.44912], [42.291237, -71.04379899999998], [33.436906, -117.089658], [37.47409, -77.46878000000002], [28.171236, -82.353767], [30.61318, -88.140824], [39.101309, -94.572483], [25.749912, -80.33583], [30.433190000000003, -81.72753], [30.203354, -97.884573], [35.31009, -120.825324], [34.348229, -77.88282], [47.61731, -122.18637], [35.775925, -119.254362], [40.279544, -78.827027], [30.416796, -87.28780400000002], [25.893911, -80.32444], [39.10639000000001, -94.57376], [35.134223, -89.867552], [30.287111, -81.515357], [34.272303, -118.352929], [38.365104, -76.971118], [34.12754, -118.14926], [37.35059, -122.10495], [34.045728999999994, -118.34628], [40.08042, -76.34756], [34.428183000000004, -119.795505], [36.8045, -119.78506000000002], [42.30961, -87.89259], [40.99462, -74.04448000000002], [47.566858, -122.32048], [35.689119, -119.186993], [39.299956, -76.803077], [34.2773, -119.295533], [43.86951, -121.40266], [35.90738599999999, -78.899484], [37.920636, -122.062281], [39.991162, -79.625475], [28.39865, -81.52598], [25.821513, -80.242724], [45.93164, -119.32873], [34.237722, -81.457217], [42.01932, -87.94697], [38.768262, -77.53618900000002], [41.451855, -75.66675699999998], [41.261183, -74.158004], [38.86586, -77.210572], [34.0819, -117.716], [40.257701, -75.248165], [37.640009, -77.561317], [36.175305, -95.923615], [34.000157, -117.550168], [40.94008, -122.42492], [40.745848, -73.767769], [37.095504, -121.976363], [40.75699, -74.0542], [42.27716, -88.04077], [33.505749, -81.70940300000002], [34.082006, -81.134739], [40.79259, -73.505712], [33.689885, -117.768525], [41.175459, -73.151854], [45.823749, -123.493634], [33.616194, -117.425681], [38.04314, -122.9788], [30.19747700000001, -97.861292], [39.74964, -105.01731], [30.40442, -86.852264], [34.095046999999994, -118.311494], [29.28596, -98.39565], [29.157092, -82.129408], [40.347399, -74.474413], [44.288778, -94.001304], [44.687436, -112.655149], [34.754220000000004, -114.567457], [32.69455, -117.128967], [41.815831, -71.413495], [40.166437, -76.593438], [40.714892, -112.541402], [42.66177, -84.2042], [37.487078, -119.632948], [35.044381, -80.847217], [38.554362, -77.34135699999999], [34.823134, -82.439246], [34.016742, -118.173354], [35.777941, -78.561086], [30.448503, -84.305897], [34.146505, -118.36995], [25.874851, -80.388067], [45.51668, -122.66729], [34.06691, -117.44019], [34.876549, -82.451881], [37.88301, -122.30852], [32.635992, -80.716735], [41.60174, -87.14789], [40.872196, -73.999024], [33.898369, -118.10514], [29.7844, -95.57326], [43.943386, -123.013255], [37.892761, -122.064902], [29.410176, -82.21208], [34.146019, -81.23833499999998], [32.268355, -90.210308], [41.035255, -73.595514], [35.06427, -80.95416], [41.87101, -87.76894], [33.7617, -117.86411], [34.23595, -118.412738], [34.092622, -118.601637], [36.872895, -121.770046], [30.220990000000004, -81.56988], [47.16512, -122.29682], [38.801235, -77.525328], [34.032603, -79.87629100000002], [25.808461, -80.264578], [37.539124, -122.017358], [33.878943, -118.285235], [45.58352, -122.76803999999998], [39.98591, -105.23302], [44.710117, -123.430437], [31.548138, -97.12433], [36.11459, -115.16411], [40.154846, -74.718092], [35.239018, -80.852761], [37.67151, -122.10418], [38.349231, -85.487201], [38.168851, -79.008241], [47.125586, -92.471612], [42.305633, -87.92264899999998], [33.875146, -118.34397], [39.390825, -77.417489], [33.59453, -83.63535], [32.682733, -97.24062], [33.461122, -112.108339], [36.048381, -95.993688], [33.554215, -117.672747], [43.085796, -71.47340200000002], [41.88086, -87.71587], [43.832843, -84.750867], [33.825939, -118.241557], [33.7463, -117.447572], [42.78668, -124.49439], [37.563744, -122.273224], [40.739525, -113.858903], [34.17302, -118.30643], [34.051321, -118.260788], [30.169669, -81.55626600000002], [34.070892, -118.465171], [27.442889, -82.50536], [39.986361, -76.672435], [38.771069, -90.267563], [43.373471, -71.93798199999998], [34.071647, -118.108106], [38.820949, -76.89139300000002], [33.660088, -117.711741], [34.915931, -91.161784], [43.05217, -76.13258], [35.345398, -119.038888], [33.990237, -117.351638], [33.675059000000005, -80.899447], [36.29812800000001, -121.214116], [46.629329, -94.324076], [40.739623, -73.846779], [35.789855, -78.60517800000002], [29.99233, -95.42433], [25.733223, -80.33445999999998], [45.720332, -121.596312], [40.924339, -73.859101], [25.69556, -80.30933399999998], [39.882986, -83.021973], [43.64514000000001, -121.52132], [34.425128, -118.424016], [33.908263, -81.221056], [43.14966, -77.802633], [41.2602, -81.92756999999997], [27.187925, -82.437241], [37.999033, -122.052995], [40.413185, -111.909299], [39.231812, -76.647306], [38.904495, -77.017096], [41.74279600000001, -72.7348], [35.22312, -80.84037], [33.71597, -84.23866], [41.73456, -72.747355], [38.547847, -122.720638], [38.941737, -94.752198], [45.485898, -120.726706], [43.0744, -87.92052], [39.90285, -75.1159], [35.69038, -118.21962], [25.68608900000001, -80.395911], [28.5775, -81.47609], [33.368291, -85.232902], [33.295215, -111.97242], [47.988755, -122.182941], [25.765988, -80.33227099999998], [44.89122, -93.18467], [40.32805, -74.57269000000002], [47.29328, -122.30565], [32.456557000000004, -96.844695], [25.945874, -80.186314], [40.76694000000001, -73.887654], [38.666823, -121.27225], [33.872684, -118.290878], [43.097984, -123.367577], [34.072166, -118.066044], [40.822389, -97.136093], [25.733269, -80.331645], [37.990116, -120.473647], [33.93072, -118.183577], [25.747537, -80.337062], [33.868886, -118.284784], [33.779292, -118.09028700000002], [37.473137, -77.525161], [35.865473, -78.565387], [34.504396, -82.992077], [36.261304, -86.712523], [40.010701, -83.119602], [42.42092, -87.82568], [44.067631, -121.308685], [37.25196, -121.93779], [32.876003999999995, -117.199808], [35.887355, -78.565292], [38.833322, -108.580693], [32.71435, -96.829308], [34.06598, -118.21619], [42.24059000000001, -83.33629], [38.24605, -85.75213000000002], [41.721269, -71.91471800000002], [39.68799, -84.22601999999998], [38.30159, -85.85533000000002], [34.923607000000004, -120.416665], [35.231405, -80.970708], [28.024432, -82.23649], [44.170285, -93.892289], [38.93887, -94.53524], [34.068467, -118.237047], [26.00787, -80.31181], [27.388188, -82.460909], [44.950913, -93.009135], [39.605668, -78.838643], [38.581314, -121.463473], [35.774992, -80.309382], [25.854031, -80.246131], [34.127088, -118.474797], [34.022094, -117.551125], [33.964690000000004, -118.16889], [42.5206, -83.62279000000002], [44.994324, -92.960203], [43.197125, -75.728923], [29.77004, -95.35177], [25.945334, -80.178967], [34.150371, -80.911728], [25.916988, -80.292806], [40.276876, -123.42098500000002], [39.306446, -76.743864], [37.741867, -121.12528600000002], [40.434697, -75.421539], [33.714283, -84.238411], [26.181665, -80.153142], [40.344275, -78.780587], [39.001853, -122.761267], [35.146840000000005, -80.89619], [34.995328, -85.398842], [37.8998, -122.21112], [32.7804, -96.77682], [43.097456, -77.43266700000002], [33.925069, -118.20989], [27.693216, -80.889077], [37.214302, -93.307112], [44.52117, -124.06999], [39.474011, -119.790927], [35.33157, -80.7233], [39.187404, -120.940892], [44.95772, -92.95825], [39.15391, -78.16556800000002], [36.09564, -115.18054], [36.942847, -80.918415], [26.438841, -81.725464], [28.587483, -81.131799], [34.076119, -80.95824300000002], [36.060401, -79.404534], [38.59385, -121.50407], [33.458965, -111.991295], [37.833212, -122.294665], [39.015766, -77.000609], [47.56792, -122.32032], [36.986471, -76.42730300000002], [44.04801, -92.905961], [30.62317800000001, -84.843949], [39.151, -84.4039], [32.66717, -97.062846], [37.494447, -76.53770300000002], [37.521477, -77.351922], [43.88096, -92.501748], [25.909042000000003, -80.233824], [39.959736, -75.177673], [42.047918, -87.76194], [37.82759, -122.26798], [34.246589, -117.43681200000002], [37.12919, -121.97727], [34.121179, -117.514503], [33.802581, -118.118016], [42.19573, -87.95397], [28.596287, -81.462193], [41.42195, -81.72785999999998], [38.35358, -81.62905], [37.813098, -122.36171000000002], [27.987240000000003, -82.32656], [33.835249, -117.247622], [37.701355, -121.769982], [26.01846, -80.167089], [37.591379, -76.86527099999998], [38.02693, -122.25822], [29.40596, -100.00455], [32.792504, -96.682618], [25.781092, -80.32106800000003], [38.782319, -90.486317], [33.674108000000004, -112.031078], [45.504991, -122.67361], [26.758448, -80.091103], [38.26103, -85.74192], [45.510244, -92.99467], [32.861233, -96.77017], [33.9743, -81.19657], [33.92938, -117.41643], [38.21075, -85.75298000000002], [28.444316, -81.474912], [37.939597, -87.492989], [34.100392, -117.984924], [33.970364000000004, -118.081554], [40.007235, -75.213823], [37.639213, -122.404893], [35.031784, -80.962597], [37.295851, -79.955928], [38.86373, -77.33804], [25.851751, -80.235817], [29.85715900000001, -95.300454], [37.70034, -121.92621], [37.388069, -122.068605], [36.047523, -118.937469], [34.06643, -117.32988], [42.02025, -88.27002], [35.744993, -78.64875500000002], [38.792752, -77.174289], [34.921728, -81.989089], [39.84159, -75.38556], [41.185122, -112.011271], [37.764996, -121.402824], [43.875894, -95.112964], [33.241308000000004, -117.22618500000002], [33.975770000000004, -118.38524], [44.10256, -124.12047], [33.414432, -111.637159], [41.80038, -73.75769], [44.467796, -93.140856], [35.826688, -81.641734], [33.954572, -118.295904], [34.175764, -79.809601], [25.645931, -80.333263], [38.559812, -121.478288], [32.872956, -96.770356], [42.82552, -73.62941], [38.891691, -76.847154], [45.58834, -122.75149], [36.07239600000001, -79.267827], [41.54763, -87.31115], [25.928712, -80.293654], [32.970442, -96.920794], [35.016227, -118.936024], [34.052287, -80.945619], [42.966641, -85.679142], [40.163385, -75.477846], [29.693044, -95.400822], [34.11996, -118.3387], [44.262367, -94.026268], [40.626765, -74.179998], [44.412669, -92.170702], [38.904659, -77.016627], [27.907277, -81.800692], [34.106652000000004, -118.255993], [28.5737, -81.181646], [33.69109, -84.49824], [33.74463, -84.39923], [41.102642, -74.02817399999998], [25.932213, -80.189667], [25.90939, -80.20987], [35.838016, -78.324125], [37.780598, -80.89545600000002], [36.307164, -119.329368], [46.919112, -103.506149], [38.71971, -121.29577], [33.106908000000004, -103.027663], [36.99079, -76.42461], [44.859391, -93.2469], [35.084859, -80.99184], [44.84335, -122.84859], [35.86870800000001, -78.720866], [38.01214, -121.8678], [28.56698, -81.20925], [33.959903000000004, -117.310627], [44.96602100000001, -93.260611], [33.975211, -117.558245], [34.018608, -118.169592], [37.750491, -113.055248], [43.599198, -116.557868], [38.054634, -122.693306], [38.631319, -90.352184], [41.734299, -72.663524], [35.149313, -80.77271400000002], [39.877267, -75.102815], [37.714825, -122.073816], [33.74227, -84.391459], [28.332797, -81.493606], [41.667891, -72.665301], [32.908526, -80.026849], [32.272721999999995, -111.012034], [34.566088, -118.686064], [42.34697, -87.90187], [48.316045, -116.488801], [44.42773, -121.87668], [39.69300000000001, -104.97771000000002], [27.447441, -82.52284], [39.420694, -76.644841], [33.972873, -117.694683], [37.433454, -120.778465], [45.365185, -121.567744], [40.11273, -111.67199], [43.1999, -124.235713], [38.83998, -77.2195], [33.187755, -87.271517], [34.160486, -118.380947], [33.350289000000004, -104.581041], [36.707349, -119.682029], [33.859375, -118.299205], [36.372598, -84.239464], [32.808017, -96.871665], [39.078569, -78.219589], [39.838067, -75.68005500000002], [36.979886, -121.908438], [32.741139000000004, -117.148882], [28.59733, -81.299849], [43.015767, -74.80019899999998], [36.15016, -86.85793000000002], [41.115292, -74.108136], [34.790879, -82.65472700000002], [33.420559999999995, -112.32368999999998], [39.702562, -84.286261], [44.964783, -93.229247], [37.886677, -121.146953], [37.552072, -77.47760500000003], [46.33712, -94.37704], [34.352553, -119.052194], [48.344596, -92.963122], [37.681387, -122.127938], [36.983381, -121.954518], [37.955562, -122.372862], [25.923052, -80.309213], [35.106137, -82.39234300000003], [39.83937, -105.034929], [42.96663, -87.92188399999998], [37.48793, -121.931566], [36.09034000000001, -86.62652], [29.992816, -90.080814], [34.083892, -117.693024], [30.384354, -81.556794], [37.318393, -121.984104], [30.61157, -84.24219000000002], [35.93185, -119.90905], [41.295922, -72.76008], [33.14143, -80.055252], [42.465415, -87.946652], [32.048183, -90.34019], [42.91188, -83.7258], [26.547590000000003, -81.620728], [34.151201, -118.28118], [32.273340000000005, -81.08027], [25.938643, -80.277385], [40.648094, -111.902242], [25.683394, -80.41639599999998], [32.321983, -80.935647], [33.75458, -118.250159], [41.54356, -93.59684], [37.405604, -122.069703], [37.084167, -121.977222], [33.287833, -87.597738], [46.762822, -92.125264], [33.803247, -117.904018], [25.72947000000001, -80.308853], [45.359, -93.56267], [35.956871, -119.036034], [40.068932, -76.307511], [45.325154, -122.347821], [39.02575, -110.29962], [32.85557, -96.77053], [35.375252, -118.931847], [30.161187, -97.800356], [46.140089, -123.807392], [33.870805, -117.740212], [35.93405999999999, -119.644668], [34.129227, -79.72014300000002], [27.939144, -82.28576600000002], [36.560859, -119.448666], [39.01122700000001, -77.064322], [33.50169, -84.22645], [38.188156, -121.976852], [34.137640000000005, -118.22906], [40.124706, -75.364535], [25.815271, -80.313437], [38.151027, -122.449285], [33.964044, -117.325059], [27.85227, -82.663751], [41.67044, -72.83949], [36.98287, -77.39289000000002], [25.899548, -80.184336], [36.131767, -86.857499], [45.661028, -110.647919], [42.67877, -73.69019], [32.968322, -80.202967], [43.20073, -122.1338], [36.822906, -119.781265], [35.60955, -81.98505], [44.884377, -93.625015], [40.83767, -111.91564], [28.281992, -81.59298299999998], [38.803688, -104.801395], [33.981129, -117.973035], [28.18596, -82.35347], [42.80179, -87.95313], [41.66169, -87.5901], [36.156824, -95.984512], [41.77097, -72.67856], [34.246814, -117.209087], [44.66242, -124.05493], [34.483806, -79.366949], [35.118171999999994, -80.931454], [34.0663, -117.32789], [39.120694, -94.491504], [32.77833, -97.31978], [43.75381, -123.138355], [28.675111, -81.853111], [37.167522, -119.205678], [38.470307, -121.499151], [34.046659000000005, -81.119851], [38.88221400000001, -77.171064], [41.345061, -73.752938], [25.733269, -80.331645], [42.262048, -123.027076], [34.902977, -82.334102], [33.019648, -117.202207], [40.32758, -74.3616], [37.754062, -121.453404], [43.282015, -123.355759], [39.390775, -76.762945], [29.99509500000001, -90.105916], [37.411185, -122.200776], [44.88923, -93.000834], [33.617448, -84.436437], [34.008302, -117.887027], [39.17414, -84.48555999999998], [30.21083, -81.51371999999998], [35.525809, -118.664782], [44.76943, -93.28847], [38.850943, -76.958261], [27.337791, -82.468069], [33.884622, -118.352704], [35.995386, -86.691476], [40.739608, -73.900559], [37.813276, -121.198876], [34.587298, -111.887297], [39.255124, -120.043542], [33.686302000000005, -78.979425], [37.34431, -121.85674], [36.75293, -119.8271], [44.951723, -93.081648], [26.08746, -80.21262], [32.855783, -96.556187], [26.4372, -81.77979], [25.922643, -80.211522], [37.380095, -77.633882], [32.83681, -96.92062], [44.8052, -92.9127], [45.25651, -92.783961], [44.7682, -119.66527], [45.344957, -121.949171], [41.889744, -87.961836], [30.371791, -97.750034], [28.214123, -82.742023], [44.279665, -93.332274], [35.51122, -97.60115], [33.568014, -117.210644], [27.909197, -82.77886099999998], [34.019672, -118.173498], [32.696093, -96.842867], [44.31483, -93.30824], [34.068165, -117.977818], [33.759826000000004, -117.831194], [39.566777, -119.494181], [32.866709, -96.896002], [38.658162, -120.969786], [37.892935, -121.282181], [41.83743, -87.66932], [38.87973, -94.79268], [41.22337, -96.04322], [40.039898, -75.578974], [40.035279, -76.29719200000002], [39.3013, -76.50155], [29.49386, -82.29334], [40.093347, -74.095699], [41.24465, -112.00953], [35.58741, -77.268936], [30.408749, -84.263903], [30.003740000000004, -90.031377], [40.017705, -75.680942], [45.722597, -94.959372], [32.88848, -80.01934], [37.783227, -121.217417], [27.91664500000001, -82.787873], [37.36394, -122.12389], [34.07184, -118.12059], [39.803589, -84.255009], [35.649594, -119.220875], [36.2177, -115.12558], [32.461009999999995, -94.04277], [37.99194, -122.1259], [33.90998, -84.28307], [27.496143, -82.634188], [29.7168, -95.538896], [39.665054, -75.614171], [32.866735, -96.899273], [35.02783, -120.48091399999998], [34.070177, -118.26234], [35.084920000000004, -85.07136], [26.43232, -81.7777], [30.2887, -81.6275], [40.110193, -76.829094], [28.577877, -81.455237], [27.298808, -82.500259], [43.018828000000006, -78.186199], [40.831829, -73.854917], [34.036421999999995, -118.148111], [28.417632, -81.422934], [30.422971, -91.184304], [40.755361, -85.401524], [33.219212, -111.98876], [34.049640000000004, -118.214169], [39.1273, -94.49773], [47.186258, -94.721785], [34.01375, -117.5501], [25.590984, -80.362157], [29.685302000000004, -95.39641], [41.590445, -86.898753], [40.78155, -74.04693], [39.252824, -76.638927], [34.755398, -92.428061], [37.90215, -121.46668], [30.350151, -87.38801600000002], [39.193392, -123.210114], [41.032088, -80.379214], [35.76757, -78.49688], [25.78222, -80.22955400000002], [37.553331, -77.444541], [38.775816, -77.298878], [43.057111, -83.65082199999998], [35.47826, -82.55468], [35.084868, -85.07149799999998], [39.970874, -75.19305200000002], [37.82759, -122.26798], [36.52803400000001, -87.35084499999998], [38.323416, -122.255418], [42.412017, -123.149871], [39.61947, -86.07428], [33.167794, -87.526859], [29.77688, -95.38401], [27.59605, -81.53165899999998], [40.476226, -78.73353], [39.1475, -84.53904], [45.191048, -93.545976], [40.84604, -111.91496], [34.167874, -118.496999], [34.233558, -118.472957], [34.05603, -117.54662], [36.416217, -82.490894], [45.371749, -122.743935], [30.08721, -90.43658], [35.31019000000001, -80.74566], [36.542532, -119.591084], [33.889571000000004, -84.262636], [41.92985, -71.3223], [30.367723, -81.760865], [29.87280100000001, -95.30069], [34.26375, -119.011169], [31.899307, -106.412253], [38.900538, -104.828463], [34.117688, -117.855074], [34.052983000000005, -82.18946], [37.686721, -122.130109], [37.671437, -122.121771], [26.060528, -80.16317], [32.953162, -117.139501], [27.901184000000004, -82.745675], [29.60027, -95.26974], [39.238437, -123.768481], [34.099096, -117.51418], [40.71834000000001, -111.88826], [34.025012, -82.26055], [44.560629, -123.25574], [32.73849000000001, -96.61221], [40.200603, -78.92782], [38.505132, -90.682199], [26.771312, -80.096147], [34.423, -118.42818], [35.021264, -85.355586], [33.774429, -118.044694], [34.03842, -118.27401], [29.601193, -98.275465], [38.417333, -122.71591], [35.159890000000004, -81.474609], [43.0429, -76.17126], [33.82321, -84.12924], [33.881875, -117.547305], [26.01643, -80.24833000000002], [40.257312, -75.600696], [28.451361, -81.309128], [46.073473, -122.90511399999998], [35.82021, -78.59285200000002], [33.01044, -117.264528], [37.031854, -113.602699], [25.785763, -80.20266600000002], [40.778913, -73.943242], [41.341025, -72.974825], [34.15167, -118.12856], [34.041782, -80.94019899999998], [41.05679, -73.51451], [27.806473, -82.700142], [44.735026, -122.164325], [38.664316, -121.359745], [41.032071, -111.94777], [33.789833, -118.207746], [30.01769, -89.93938], [37.783193, -121.221919], [30.396299, -91.111703], [32.453785, -93.743881], [34.048815999999995, -118.166718], [38.882851, -122.607421], [35.27417600000001, -80.835985], [34.03033, -117.64544], [38.515808, -121.447265], [41.100744, -73.956924], [42.03871, -87.97928], [45.298139, -93.796748], [32.910421, -96.885448], [38.946602, -77.20180400000002], [26.026192, -80.350838], [37.62097, -121.03042], [42.3335, -123.58822], [48.485299, -122.337662], [34.89063, -82.46885999999998], [47.587119, -105.524357], [25.820065, -80.32182], [27.85856, -82.69759], [25.919388, -80.155901], [40.697637, -111.980578], [48.44925900000001, -115.879258], [38.645208, -77.301715], [42.946103, -115.420635], [29.962824, -90.089634], [44.77478, -93.2906], [29.675907, -95.283553], [38.134464, -122.475927], [40.935047, -74.072817], [45.68364, -118.808596], [28.534371000000004, -81.28564], [41.089198, -111.99061], [40.707424, -74.198044], [37.667321, -77.642009], [29.944974, -90.089961], [29.972690000000004, -90.06557], [34.149421999999994, -81.240093], [34.398785, -118.461932], [33.7195, -117.18931], [29.70974600000001, -95.515684], [33.93348, -118.018107], [37.949562, -121.29604], [32.9625, -96.791627], [32.933762, -117.239027], [42.494483, -82.937359], [35.054914000000004, -82.031012], [34.062602000000005, -118.248895], [34.691089, -82.991056], [33.553092, -112.101425], [38.27009, -122.05232], [33.990959000000004, -117.550275], [29.811608000000003, -95.414811], [34.029067, -118.213309], [34.151987, -118.13225], [33.913169, -81.226287], [30.36296, -97.668542], [47.66553, -117.16202], [43.13705, -77.55279], [30.43106400000001, -91.083941], [44.08815, -123.10066], [42.691283, -73.84120300000002], [44.39618, -122.2231], [39.72213, -104.82541], [40.815772, -79.05217900000002], [40.06845, -76.3026], [38.528495, -121.51908799999998], [34.172211, -82.127212], [33.829849, -117.833786], [33.882508, -118.025852], [33.563444, -112.036384], [29.78512000000001, -95.65062], [38.86007, -77.87129], [42.2251, -87.85032199999998], [33.85344, -117.883721], [32.642065, -96.82679], [35.773739, -78.43119399999998], [37.84857, -122.23405], [34.051190000000005, -118.005899], [26.43405, -80.08939000000002], [39.02038, -76.95725999999998], [42.31732, -83.44283], [38.751352, -121.484423], [25.964097, -80.165555], [33.746406, -118.007025], [38.965963, -94.713617], [38.236004, -122.460934], [45.57185, -122.20098], [33.791495, -79.5147], [36.872617, -76.384109], [38.06849, -122.22627], [35.978889, -120.901667], [34.864194, -118.171504], [41.026779, -76.854548], [33.70644, -117.779], [25.633555, -80.414824], [35.412244, -119.058817], [39.322096, -77.002144], [40.051095, -86.49181899999998], [45.999723, -92.937673], [34.093825, -118.24109], [30.263028, -97.743213], [34.155508000000005, -118.401024], [39.072508, -76.906533], [25.80702, -80.20572], [34.01555, -118.422991], [35.78648, -78.69861], [41.81928, -71.38756], [34.083006, -117.997179], [33.788248, -118.096429], [41.635361, -93.777097], [25.854491, -80.33875400000002], [28.32533, -82.55287], [34.239329999999995, -77.95829499999998], [35.366824, -118.949629], [27.91971, -82.60977], [33.841390000000004, -117.142967], [40.85572, -73.1875], [33.281009999999995, -117.15108899999998], [30.395967, -91.180153], [39.013298, -77.04161500000002], [28.051171000000004, -82.78775], [41.90033, -87.66023], [29.95559, -90.131841], [41.595555, -93.61506], [42.2315, -83.58454], [42.359636, -87.900475], [47.320954, -93.745476], [41.83743, -87.66932], [25.557574, -80.366256], [32.923969, -80.694705], [37.71285200000001, -121.540411], [39.66055, -112.06381], [36.985183, -122.023333], [32.78792, -97.26042], [34.203933, -117.098098], [33.370722, -117.249333], [38.412001, -77.42926899999998], [41.81915, -87.63056], [40.69992, -111.8495], [33.869042, -117.730718], [41.39792, -81.46889], [38.588911, -121.415262], [38.3672, -90.3843], [32.964781, -80.151404], [32.192003, -110.840007], [32.940874, -97.117695], [38.653319, -120.967078], [33.567497, -112.176479], [42.734423, -74.179376], [37.942291, -122.499133], [32.662459000000005, -117.108673], [29.7933, -95.2685], [30.403859000000004, -87.317763], [38.561068, -121.482921], [34.100369, -79.546432], [32.190465, -110.84108700000002], [37.751523, -122.402726], [34.4886, -118.28649], [43.017364, -75.001848], [40.985762, -76.689425], [34.091908000000004, -117.991346], [40.52536, -74.234487], [37.74141, -121.58025], [38.643572, -121.39423899999998], [42.781586, -78.781213], [29.668353000000003, -95.602662], [40.954413, -87.444551], [44.333587, -75.90995500000002], [39.293189, -76.532042], [34.017202000000005, -118.162919], [37.51604, -121.9407], [45.019063, -92.985993], [40.833821, -74.021261], [30.308177, -81.863013], [33.903467, -118.202833], [27.066142, -80.24414], [39.169452, -121.983315], [47.87812, -122.10978], [39.197193, -121.174203], [28.405393, -80.705669], [37.799239, -78.495395], [38.08647, -121.27858799999998], [34.37875, -118.5654], [33.941812, -117.273832], [33.247025, -117.22792], [42.963211, -85.667495], [43.000633, -83.738113], [40.717338, -73.831204], [42.68041, -84.49951999999998], [32.27088, -90.1525], [25.723652, -80.414879], [40.644235, -74.01791], [25.687482, -80.430145], [45.49754, -122.56556], [33.91417, -118.28669], [42.32284, -83.69473], [33.876962, -118.18236], [40.066651, -76.30713100000001], [35.091201, -85.73707900000002], [38.350399, -77.480918], [39.178436, -76.634606], [44.17427, -93.93767], [43.607498, -116.294142], [38.080864, -121.132552], [26.043576, -80.163124], [35.381111, -119.015], [45.010031, -93.176862], [34.030247, -117.67311200000002], [41.321417, -81.814176], [33.20241, -117.377961], [39.821244, -85.762485], [45.800674, -93.514778], [35.28798300000001, -80.858347], [38.038501, -78.838234], [34.02446, -118.46922], [30.002581, -90.036406], [33.63808, -111.89045], [37.44972, -77.64928], [41.54201, -87.965], [36.595592, -121.86605], [28.878432, -82.092536], [35.021581, -82.502555], [40.43291, -79.87043], [41.002679, -111.927339], [39.770025, -75.048433], [47.48614600000001, -121.888445], [33.8229, -84.49195], [37.299052, -121.874679], [33.131005, -117.327216], [29.188756, -82.184844], [36.079951, -78.76726], [36.808445, -119.727147], [33.49703, -117.14845], [34.273540999999994, -118.628823], [45.07925, -93.01549], [47.777599, -122.316101], [26.43745, -81.779834], [43.14286, -77.666028], [38.57399, -121.384304], [43.003265, -83.668952], [38.38478, -121.93801], [29.941857, -90.095389], [33.765658, -117.96567], [37.36792, -77.41736], [25.78711400000001, -80.210988], [29.737288, -95.371585], [44.1076, -92.24467], [30.213246, -85.607525], [41.687582, -91.634339], [25.98444, -80.18306], [34.040549, -118.179173], [40.747989, -73.76029399999999], [37.777734, -122.167414], [29.654693, -95.568501], [35.136767, -119.471066], [33.757803, -117.972397], [25.685729, -80.40204399999998], [40.129804, -75.358845], [28.595934000000003, -81.37333100000002], [25.809262, -80.317339], [30.441725, -97.668932], [26.640897, -81.84976800000003], [40.696298, -73.978088], [25.9321, -80.20384], [42.153876, -88.060748], [29.99805, -82.593337], [28.65759000000001, -81.388789], [32.577198, -80.933049], [28.35141, -81.614953], [42.298568, -83.873354], [44.83572, -123.00776], [44.931171, -93.139627], [38.712215, -122.976291], [36.944519, -80.956816], [35.15279, -80.87631], [45.486535, -122.792841], [28.472605, -81.39452800000002], [44.935045, -95.759083], [36.84933, -76.19612], [33.797836, -118.297521], [28.053784000000004, -82.33154300000002], [42.353271, -122.877477], [38.633514, -77.42546800000002], [33.982358000000005, -118.286454], [33.931015, -118.300299], [32.86001, -96.90217], [38.669975, -77.25694200000002], [34.241375, -118.419007], [38.86404, -121.95675], [38.21877, -85.50586], [38.24737800000001, -78.957246], [39.059505, -94.369679], [45.69196, -87.52054], [36.385193, -119.215744], [36.151851, -86.79835200000002], [47.399042, -92.941299], [33.853125, -118.280407], [38.906018, -122.671386], [41.88888, -88.08225], [37.48053400000001, -121.93458400000002], [34.960974, -119.447511], [28.987, -82.181789], [40.354048, -79.28016099999998], [42.237849, -74.320009], [41.050547, -77.15637], [40.808389, -73.927826], [43.004986, -83.690311], [39.148425, -94.559853], [36.988247, -122.003489], [28.566581, -81.286015], [39.65544000000001, -122.007973], [40.28137, -74.69869], [25.231069, -80.43239], [38.361311, -77.47084], [27.01637, -82.04626], [28.490736, -81.404783], [34.749763, -86.696639], [39.987628, -105.236686], [35.733901, -83.024615], [39.094086, -121.542488], [34.819942, -82.208712], [25.685183, -80.418839], [35.081402000000004, -85.205318], [32.81269, -96.7542], [34.098064, -118.314389], [46.844877, -92.457214], [25.687938, -80.41644000000002], [44.97391, -93.24967], [44.79244, -122.61951], [43.39197, -89.46705], [42.927165, -85.633813], [27.936246, -82.310249], [47.50507, -94.94754], [33.568065000000004, -81.779329], [45.244041, -117.957162], [29.929405, -90.03260300000002], [34.26607, -118.46941], [25.67972, -80.38894], [35.60457, -118.483759], [32.722076, -117.102662], [47.56855, -122.18005], [40.868839, -74.00317199999998], [36.293971, -86.70174], [38.599542, -121.44103], [37.545971, -77.60115400000002], [40.9897, -73.67512099999998], [28.611993, -81.206597], [28.194261, -82.383886], [37.827108, -122.29777], [32.879101, -96.688488], [37.572907, -122.31636], [35.26099, -80.81969000000002], [41.640261, -93.776865], [39.64981, -78.75581], [33.746879, -117.118286], [42.928347, -85.671637], [33.51631, -112.168726], [48.241333, -103.648276], [33.967464, -118.160631], [34.489181, -118.115841], [33.897803, -118.265282], [35.18052, -80.88856], [42.94536, -85.7115], [41.743659, -87.836439], [30.382605, -91.167539], [29.717895, -95.500254], [34.314111, -86.902209], [35.041393, -80.846307], [40.042111, -76.834179], [34.032789, -118.028932], [33.876286, -118.102561], [40.587397, -75.581427], [35.056777000000004, -85.140783], [30.249699, -97.738454], [25.960581, -80.242956], [34.051694, -118.094377], [44.97626, -93.24667], [35.153149, -90.05653000000002], [44.85907, -93.35548], [35.58933, -82.57859], [38.92563300000001, -77.20749599999998], [30.628691, -84.886647], [28.832039, -81.799337], [36.811419, -119.730838], [42.692244, -73.843717], [33.92517, -117.88029], [37.7011, -122.4714], [25.787219, -80.186002], [40.70859, -73.81952], [45.06519, -94.13434], [45.10619000000001, -93.39293], [32.494506, -93.765167], [29.399294, -98.641131], [27.846339, -82.347368], [35.147535999999995, -84.961313], [43.33033, -73.67302], [33.986345, -117.346376], [25.68383900000001, -80.40053499999998], [35.036421000000004, -81.83639699999998], [38.678868, -77.625675], [34.233558, -118.472957], [38.171445, -121.592768], [39.959054, -75.172228], [28.472608, -81.39439], [34.08913, -118.237527], [37.461761, -122.142928], [25.701818, -80.347246], [44.98350900000001, -93.405407], [33.6528, -84.39585], [42.99941, -85.688027], [33.769290000000005, -118.196364], [37.520315, -121.983815], [25.732962, -80.339038], [40.847867, -73.934797], [45.29587100000001, -111.413795], [26.995571, -80.197446], [30.502046000000004, -87.174844], [29.77182100000001, -95.186446], [28.40637000000001, -81.410492], [27.496263, -82.685201], [36.08914, -80.25899], [35.37734000000001, -97.42356], [29.409188, -98.508857], [36.268604, -119.365414], [27.79085, -82.35719499999998], [34.06369, -117.81538], [40.295823, -80.029431], [39.82397, -104.96131], [34.067849, -117.40948600000002], [45.41469, -122.56112], [41.85065, -71.42499000000002], [40.387525, -106.678188], [42.10241, -87.76841999999998], [33.941178, -118.096711], [34.0528, -84.29089], [40.429456, -122.284268], [42.153669, -87.982571], [28.394472, -80.81610699999997], [40.252929, -76.86828], [36.13875, -86.801789]],\n",
              "                {&quot;blur&quot;: 15, &quot;maxZoom&quot;: 18, &quot;minOpacity&quot;: 0.5, &quot;radius&quot;: 25}\n",
              "            ).addTo(map_2d5d84ab7bb416dcc980405f842e2ec7);\n",
              "        \n",
              "&lt;/script&gt;\n",
              "&lt;/html&gt;\" style=\"position:absolute;width:100%;height:100%;left:0;top:0;border:none !important;\" allowfullscreen webkitallowfullscreen mozallowfullscreen></iframe></div></div>"
            ]
          },
          "metadata": {},
          "execution_count": 169
        }
      ]
    },
    {
      "cell_type": "code",
      "source": [],
      "metadata": {
        "id": "t4AYyxDFKkUl"
      },
      "execution_count": null,
      "outputs": []
    },
    {
      "cell_type": "markdown",
      "source": [
        "###Temprature"
      ],
      "metadata": {
        "id": "5NezL0BKTn0z"
      }
    },
    {
      "cell_type": "code",
      "source": [
        "data['Temperature(F)']"
      ],
      "metadata": {
        "colab": {
          "base_uri": "https://localhost:8080/"
        },
        "id": "DGdjPMQYKkYJ",
        "outputId": "af5c2e10-220c-4b21-ad52-4e0129afdf1f"
      },
      "execution_count": 175,
      "outputs": [
        {
          "output_type": "execute_result",
          "data": {
            "text/plain": [
              "0          42.1\n",
              "1          36.9\n",
              "2          36.0\n",
              "3          39.0\n",
              "4          37.0\n",
              "           ... \n",
              "2845337    86.0\n",
              "2845338    70.0\n",
              "2845339    73.0\n",
              "2845340    71.0\n",
              "2845341    79.0\n",
              "Name: Temperature(F), Length: 2845342, dtype: float64"
            ]
          },
          "metadata": {},
          "execution_count": 175
        }
      ]
    },
    {
      "cell_type": "code",
      "source": [
        "data.rename(columns = {'Temperature(F)': 'Temprature'}, inplace = True)"
      ],
      "metadata": {
        "id": "q4zhECjmKkgw"
      },
      "execution_count": 178,
      "outputs": []
    },
    {
      "cell_type": "code",
      "source": [
        "low_temp = data.Temprature[data.Temprature <0]"
      ],
      "metadata": {
        "id": "rS2tZ36nVK3G"
      },
      "execution_count": 184,
      "outputs": []
    },
    {
      "cell_type": "code",
      "source": [
        "low_temp"
      ],
      "metadata": {
        "colab": {
          "base_uri": "https://localhost:8080/"
        },
        "id": "Gn8fB_sjVKg1",
        "outputId": "30e1a98a-9a37-4e64-8fc3-de552e5e8634"
      },
      "execution_count": 185,
      "outputs": [
        {
          "output_type": "execute_result",
          "data": {
            "text/plain": [
              "13011      -0.4\n",
              "13021      -0.9\n",
              "13030      -2.0\n",
              "13057      -0.9\n",
              "13058      -0.9\n",
              "           ... \n",
              "2724816    -2.9\n",
              "2724833    -0.9\n",
              "2724835    -6.0\n",
              "2771896   -17.0\n",
              "2772393   -22.0\n",
              "Name: Temprature, Length: 6444, dtype: float64"
            ]
          },
          "metadata": {},
          "execution_count": 185
        }
      ]
    },
    {
      "cell_type": "code",
      "source": [
        "high_temp = data.Temprature[data.Temprature > 100]"
      ],
      "metadata": {
        "id": "a_4U4sZwVYXj"
      },
      "execution_count": 186,
      "outputs": []
    },
    {
      "cell_type": "code",
      "source": [
        "high_temp"
      ],
      "metadata": {
        "colab": {
          "base_uri": "https://localhost:8080/"
        },
        "id": "Tq3uI2UKVYQO",
        "outputId": "4379bded-e535-46a9-85ec-9b141197a2ad"
      },
      "execution_count": 187,
      "outputs": [
        {
          "output_type": "execute_result",
          "data": {
            "text/plain": [
              "4397       102.9\n",
              "4450       102.0\n",
              "4500       100.9\n",
              "4504       100.9\n",
              "4507       100.9\n",
              "           ...  \n",
              "2845144    101.0\n",
              "2845146    102.0\n",
              "2845150    102.0\n",
              "2845152    103.0\n",
              "2845153    102.0\n",
              "Name: Temprature, Length: 9727, dtype: float64"
            ]
          },
          "metadata": {},
          "execution_count": 187
        }
      ]
    },
    {
      "cell_type": "code",
      "source": [
        "sns.histplot(low_temp)"
      ],
      "metadata": {
        "colab": {
          "base_uri": "https://localhost:8080/",
          "height": 296
        },
        "id": "k7OnsQLOBAOD",
        "outputId": "223b25e2-4274-46a8-fc45-75ef9302f656"
      },
      "execution_count": 195,
      "outputs": [
        {
          "output_type": "execute_result",
          "data": {
            "text/plain": [
              "<matplotlib.axes._subplots.AxesSubplot at 0x7f414afd18b0>"
            ]
          },
          "metadata": {},
          "execution_count": 195
        },
        {
          "output_type": "display_data",
          "data": {
            "text/plain": [
              "<Figure size 432x288 with 1 Axes>"
            ],
            "image/png": "[encoded data removed]"
          },
          "metadata": {
            "needs_background": "light"
          }
        }
      ]
    },
    {
      "cell_type": "code",
      "source": [
        "sns.histplot(high_temp)"
      ],
      "metadata": {
        "colab": {
          "base_uri": "https://localhost:8080/",
          "height": 296
        },
        "id": "bzCeOkf4U-hF",
        "outputId": "c3be0d7d-74d5-417c-99a0-57dd416799a0"
      },
      "execution_count": 196,
      "outputs": [
        {
          "output_type": "execute_result",
          "data": {
            "text/plain": [
              "<matplotlib.axes._subplots.AxesSubplot at 0x7f414ad9f8b0>"
            ]
          },
          "metadata": {},
          "execution_count": 196
        },
        {
          "output_type": "display_data",
          "data": {
            "text/plain": [
              "<Figure size 432x288 with 1 Axes>"
            ],
            "image/png": "[encoded data removed]"
          },
          "metadata": {
            "needs_background": "light"
          }
        }
      ]
    },
    {
      "cell_type": "code",
      "source": [
        "sns.histplot(data.Temprature)"
      ],
      "metadata": {
        "colab": {
          "base_uri": "https://localhost:8080/",
          "height": 296
        },
        "id": "zYLy6xl7VkSl",
        "outputId": "f26ce500-b81b-4c45-acb9-b157dff8a2d2"
      },
      "execution_count": 199,
      "outputs": [
        {
          "output_type": "execute_result",
          "data": {
            "text/plain": [
              "<matplotlib.axes._subplots.AxesSubplot at 0x7f414a290d30>"
            ]
          },
          "metadata": {},
          "execution_count": 199
        },
        {
          "output_type": "display_data",
          "data": {
            "text/plain": [
              "<Figure size 432x288 with 1 Axes>"
            ],
            "image/png": "[encoded data removed]"
          },
          "metadata": {
            "needs_background": "light"
          }
        }
      ]
    },
    {
      "cell_type": "code",
      "source": [],
      "metadata": {
        "id": "BXb-CCsKU-7q"
      },
      "execution_count": null,
      "outputs": []
    },
    {
      "cell_type": "markdown",
      "source": [
        "#Insights\n",
        "1. New york Being the most populated country has been ranked at 51th position in number of accidents.\n",
        "\n",
        "2. less than 1% of Cities have more than 2 thousand accidents yearly \n",
        "\n",
        "3. 1110 Cities have only one Accident.\n",
        "4. Most number of accidents occur During Evening time between 3pm to 6pm\n",
        "5. Friday is the day of week which recorded most number of accidents.\n",
        "6. Number of Accidents was low on weekend days as compared to week days.\n",
        "7. As the number of accidents on weekends was low however the pattern in number of accidents during the hours of the day was same.\n",
        "8. Number of accidents increased at the end of year as compared to early time of year with December being the month of year with highest number of Accidents and March with least accidents.\n",
        "9. Most number of Acccidents occured when the temprature was between 40F anf 70F."
      ],
      "metadata": {
        "id": "8vZtqzjpp_Qn"
      }
    },
    {
      "cell_type": "code",
      "source": [],
      "metadata": {
        "id": "hcl2ximGeVp_"
      },
      "execution_count": 51,
      "outputs": []
    }
  ],
  "metadata": {
    "accelerator": "GPU",
    "colab": {
      "provenance": []
    },
    "gpuClass": "standard",
    "kernelspec": {
      "display_name": "Python 3",
      "name": "python3"
    },
    "language_info": {
      "name": "python"
    }
  },
  "nbformat": 4,
  "nbformat_minor": 0
}